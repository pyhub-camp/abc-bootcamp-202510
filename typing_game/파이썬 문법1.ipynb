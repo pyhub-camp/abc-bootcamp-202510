{
 "cells": [
  {
   "cell_type": "markdown",
   "id": "ce4df771-7488-41d6-acd6-52f4ab5d9293",
   "metadata": {},
   "source": [
    "# 첫 노트북\n",
    "\n",
    "## 파이썬 문법을 살펴봅시다.\n",
    "\n",
    "+ 조건문\n",
    "+ 반복문\n",
    "+ 함수\n",
    "+ 위치 인자\n",
    "+ 키워드 인자"
   ]
  },
  {
   "cell_type": "markdown",
   "id": "f639a431-4dd2-4f99-9cb0-016157bcdcbd",
   "metadata": {},
   "source": [
    "### 조건문\n",
    "\n",
    "지정 조건이 참(True) 일 때, 혹은 거짓(False) 일 때 수행될 루틴을 지정할 수 있습니다."
   ]
  },
  {
   "cell_type": "code",
   "execution_count": 1,
   "id": "93d3b186-923a-4c01-bf79-416df3bc09cb",
   "metadata": {},
   "outputs": [],
   "source": [
    "# 표현식 (Expression)\n",
    "number = 1 + 2"
   ]
  },
  {
   "cell_type": "code",
   "execution_count": 2,
   "id": "54e9fb77-71cb-43e9-8c91-5e0a798af7c4",
   "metadata": {},
   "outputs": [
    {
     "name": "stdout",
     "output_type": "stream",
     "text": [
      "홀수\n"
     ]
    }
   ],
   "source": [
    "# 대개의 조건절에서는 else를 씁니다.\n",
    "if (number % 2) == 0:  # 이 조건 (짝수)이 참이라면\n",
    "    print(\"짝수\")\n",
    "else:  # 앞선 조건이 모두 거짓이라면\n",
    "    print(\"홀수\")"
   ]
  },
  {
   "cell_type": "code",
   "execution_count": null,
   "id": "a66ad4f3-690b-46f9-9255-1d7ea5afbecc",
   "metadata": {},
   "outputs": [],
   "source": []
  },
  {
   "cell_type": "markdown",
   "id": "d1a3b88b-bcf0-4736-a7b5-d7191c22c5cd",
   "metadata": {},
   "source": [
    "### 반복문\n",
    "\n",
    "+ `for` 문 : 목록에서 값을 하나씩 가져오며, 더 이상 가져올 값이 없을 때까지 반복합니다."
   ]
  },
  {
   "cell_type": "code",
   "execution_count": 3,
   "id": "48fd019c-e14f-451a-84a9-95081580288b",
   "metadata": {},
   "outputs": [],
   "source": [
    "명단 = [\"김선엽\", \"김희원\", \"문정서\", \"임준열\"]  # 리스트 : 다수의 값 목록 (순서를 가지며, 변경 가능)"
   ]
  },
  {
   "cell_type": "code",
   "execution_count": 4,
   "id": "9fb04590-5b71-41ba-afc2-c59b23816563",
   "metadata": {},
   "outputs": [
    {
     "name": "stdout",
     "output_type": "stream",
     "text": [
      "김선엽\n",
      "김희원\n",
      "문정서\n",
      "임준열\n"
     ]
    }
   ],
   "source": [
    "for 이름 in 명단:\n",
    "    print(이름)"
   ]
  },
  {
   "cell_type": "markdown",
   "id": "a2bbac71-6717-4793-aac9-69d3fd3f1f5f",
   "metadata": {},
   "source": [
    "파이썬의 4대 자료구조 타입\n",
    "\n",
    "1. **리스트** (list) : 다수의 값 목록 (순서를 가지며, 변경 가능)\n",
    "    - 학생 명단, 직원 명단\n",
    "    - 엑셀의 행(Rows) 개념과 유사\n",
    "2. 튜플 (tuple)\n",
    "3. **사전** (dict) : 다수의 key/value 목록\n",
    "    - 한 학생의 성적, 직원 평가 등\n",
    "    - 엑셀의 컬럼(Columns) 개념과 유사\n",
    "4. 집합 (set)"
   ]
  },
  {
   "cell_type": "code",
   "execution_count": 5,
   "id": "9256c720-1f24-4dc8-9911-19ff43ebc6f9",
   "metadata": {},
   "outputs": [],
   "source": [
    "조별_명단 = [\n",
    "    {\"조\": 1, \"성명\": \"김선엽\", \"학교명\": \"대전대학교\"},\n",
    "    {\"조\": 1, \"성명\": \"김희원\", \"학교명\": \"고려대학교\"},\n",
    "    {\"조\": 2, \"성명\": \"김정동\", \"학교명\": \"대전대학교\"},\n",
    "] "
   ]
  },
  {
   "cell_type": "code",
   "execution_count": 6,
   "id": "ae5b9c78-2fcf-4914-9971-b1ee67f44cca",
   "metadata": {},
   "outputs": [
    {
     "data": {
      "text/plain": [
       "list"
      ]
     },
     "execution_count": 6,
     "metadata": {},
     "output_type": "execute_result"
    }
   ],
   "source": [
    "type(조별_명단)"
   ]
  },
  {
   "cell_type": "code",
   "execution_count": 7,
   "id": "23cee168-964e-489b-886a-3170be91ddce",
   "metadata": {},
   "outputs": [
    {
     "data": {
      "text/plain": [
       "3"
      ]
     },
     "execution_count": 7,
     "metadata": {},
     "output_type": "execute_result"
    }
   ],
   "source": [
    "len(조별_명단)  # 리스트의 개수를 반환"
   ]
  },
  {
   "cell_type": "code",
   "execution_count": 8,
   "id": "9dcd758a-f30b-4847-ac76-f3603d00088f",
   "metadata": {},
   "outputs": [
    {
     "data": {
      "text/plain": [
       "{'조': 1, '성명': '김선엽', '학교명': '대전대학교'}"
      ]
     },
     "execution_count": 8,
     "metadata": {},
     "output_type": "execute_result"
    }
   ],
   "source": [
    "# 리스트의 첫번째(인덱스: 0) 값을 조회\n",
    "조별_명단[0]  # 대개의 프로그래밍 언어에서는 목록에서 인덱스는 0부터 시작합니다."
   ]
  },
  {
   "cell_type": "code",
   "execution_count": 9,
   "id": "36261e70-acd9-4309-a3ef-4e311e1c1b86",
   "metadata": {},
   "outputs": [
    {
     "data": {
      "text/plain": [
       "{'조': 1, '성명': '김희원', '학교명': '고려대학교'}"
      ]
     },
     "execution_count": 9,
     "metadata": {},
     "output_type": "execute_result"
    }
   ],
   "source": [
    "조별_명단[1]"
   ]
  },
  {
   "cell_type": "code",
   "execution_count": 10,
   "id": "3860a5d9-0a5d-42aa-9995-8343b73f14c9",
   "metadata": {},
   "outputs": [
    {
     "data": {
      "text/plain": [
       "{'조': 2, '성명': '김정동', '학교명': '대전대학교'}"
      ]
     },
     "execution_count": 10,
     "metadata": {},
     "output_type": "execute_result"
    }
   ],
   "source": [
    "조별_명단[2]"
   ]
  },
  {
   "cell_type": "code",
   "execution_count": 11,
   "id": "50734860-c18e-4ab5-96c7-cda9e4111982",
   "metadata": {},
   "outputs": [
    {
     "data": {
      "text/plain": [
       "{'조': 2, '성명': '김정동', '학교명': '대전대학교'}"
      ]
     },
     "execution_count": 11,
     "metadata": {},
     "output_type": "execute_result"
    }
   ],
   "source": [
    "조별_명단[-1]  # 음수 인덱스 : 뒤에서 첫번째 (-1)"
   ]
  },
  {
   "cell_type": "code",
   "execution_count": 12,
   "id": "8fa54101-3d5e-4587-aa1c-3296bc94cc95",
   "metadata": {},
   "outputs": [
    {
     "data": {
      "text/plain": [
       "'김선엽'"
      ]
     },
     "execution_count": 12,
     "metadata": {},
     "output_type": "execute_result"
    }
   ],
   "source": [
    "조별_명단[0][\"성명\"]"
   ]
  },
  {
   "cell_type": "code",
   "execution_count": 13,
   "id": "e4d98b8b-da47-4e7d-9951-ab84b9ae236a",
   "metadata": {},
   "outputs": [
    {
     "data": {
      "text/plain": [
       "'김희원'"
      ]
     },
     "execution_count": 13,
     "metadata": {},
     "output_type": "execute_result"
    }
   ],
   "source": [
    "조별_명단[1][\"성명\"]"
   ]
  },
  {
   "cell_type": "code",
   "execution_count": 14,
   "id": "6e424430-962d-4d5f-bd23-3971ffaa894b",
   "metadata": {},
   "outputs": [
    {
     "data": {
      "text/plain": [
       "'김정동'"
      ]
     },
     "execution_count": 14,
     "metadata": {},
     "output_type": "execute_result"
    }
   ],
   "source": [
    "조별_명단[-1][\"성명\"]"
   ]
  },
  {
   "cell_type": "code",
   "execution_count": 15,
   "id": "ea8344d1-4aaa-4d32-8fac-4e48cb9ac072",
   "metadata": {},
   "outputs": [
    {
     "name": "stdout",
     "output_type": "stream",
     "text": [
      "김선엽 대전대학교\n",
      "김희원 고려대학교\n",
      "김정동 대전대학교\n"
     ]
    }
   ],
   "source": [
    "for 교육생 in 조별_명단:\n",
    "    print(교육생[\"성명\"], 교육생[\"학교명\"])"
   ]
  },
  {
   "cell_type": "code",
   "execution_count": null,
   "id": "b2c609b4-efc9-4d83-8c32-73d39b48530e",
   "metadata": {},
   "outputs": [],
   "source": []
  },
  {
   "cell_type": "code",
   "execution_count": 16,
   "id": "6c9297aa-069d-4ed4-a977-d15834c5584d",
   "metadata": {},
   "outputs": [
    {
     "data": {
      "text/plain": [
       "20"
      ]
     },
     "execution_count": 16,
     "metadata": {},
     "output_type": "execute_result"
    }
   ],
   "source": [
    "2 * 10"
   ]
  },
  {
   "cell_type": "code",
   "execution_count": 17,
   "id": "da6b973d-068b-4e12-90a7-126b0e8523ee",
   "metadata": {},
   "outputs": [
    {
     "name": "stdout",
     "output_type": "stream",
     "text": [
      "2 1 2\n",
      "2 2 4\n",
      "2 3 6\n",
      "2 4 8\n",
      "2 5 10\n",
      "2 6 12\n",
      "2 7 14\n",
      "2 8 16\n",
      "2 9 18\n"
     ]
    }
   ],
   "source": [
    "for i in range(1, 10):\n",
    "    print(2, i, 2*i)"
   ]
  },
  {
   "cell_type": "code",
   "execution_count": null,
   "id": "a8b8bc5d-54ac-4047-bbe1-dc368a93c45b",
   "metadata": {},
   "outputs": [],
   "source": []
  },
  {
   "cell_type": "markdown",
   "id": "da8fe2a9-debd-44d2-9844-3a76eb3b6e82",
   "metadata": {},
   "source": [
    "# 멜론 TOP100 데이터"
   ]
  },
  {
   "cell_type": "code",
   "execution_count": 18,
   "id": "e478725d-3582-4b50-8321-6c3e2ac1bbdc",
   "metadata": {},
   "outputs": [
    {
     "data": {
      "text/plain": [
       "'https://raw.githubusercontent.com/pyhub-kr/dump-data/refs/heads/main/melon/melon-20250811.json'"
      ]
     },
     "execution_count": 18,
     "metadata": {},
     "output_type": "execute_result"
    }
   ],
   "source": [
    "data_url = \"https://raw.githubusercontent.com/pyhub-kr/dump-data/refs/heads/main/melon/melon-20250811.json\"\n",
    "data_url"
   ]
  },
  {
   "cell_type": "code",
   "execution_count": 19,
   "id": "0571e7a9-7654-459a-8f78-cb9d5e4567c6",
   "metadata": {},
   "outputs": [],
   "source": [
    "import requests"
   ]
  },
  {
   "cell_type": "code",
   "execution_count": 20,
   "id": "233db162-891c-4e81-a0d0-e305088983b5",
   "metadata": {},
   "outputs": [
    {
     "data": {
      "text/plain": [
       "<Response [200]>"
      ]
     },
     "execution_count": 20,
     "metadata": {},
     "output_type": "execute_result"
    }
   ],
   "source": [
    "response = requests.get(data_url)\n",
    "response"
   ]
  },
  {
   "cell_type": "code",
   "execution_count": 21,
   "id": "4bf02393-e5b3-40e4-a3c6-53a037f3c445",
   "metadata": {},
   "outputs": [
    {
     "name": "stdout",
     "output_type": "stream",
     "text": [
      "<class 'list'>\n"
     ]
    },
    {
     "data": {
      "text/plain": [
       "100"
      ]
     },
     "execution_count": 21,
     "metadata": {},
     "output_type": "execute_result"
    }
   ],
   "source": [
    "노래_리스트 = response.json()  # .text : 응답의 문자열, .json() : 문자열을 객체화\n",
    "print(type(노래_리스트))\n",
    "len(노래_리스트)"
   ]
  },
  {
   "cell_type": "code",
   "execution_count": 22,
   "id": "cb57dcf3-484f-4758-a588-0f093bf94287",
   "metadata": {},
   "outputs": [
    {
     "name": "stdout",
     "output_type": "stream",
     "text": [
      "Golden 131703\n",
      "Soda Pop 79211\n",
      "FAMOUS 94335\n",
      "뛰어(JUMP) 53700\n",
      "Drowning 238157\n",
      "Dirty Work 56410\n",
      "시작의 아이 65981\n",
      "너에게 닿기를 125812\n",
      "Your Idol 45554\n",
      "WICKED 39072\n",
      "모르시나요(PROD.로코베리) 89635\n",
      "어제보다 슬픈 오늘 51416\n",
      "Whiplash 142983\n",
      "like JENNIE 94068\n",
      "HOME SWEET HOME (feat. 태양, 대성) 218396\n",
      "How It’s Done 34873\n",
      "Never Ending Story 69968\n",
      "시작의 아이 ❍ 13397\n",
      "청춘만화 77907\n",
      "나는 반딧불 150860\n",
      "APT. 215859\n",
      "TOO BAD (feat. Anderson .Paak) 150229\n",
      "HAPPY 198381\n",
      "REBEL HEART 107123\n",
      "빌려온 고양이 (Do the Dance) 33770\n",
      "오늘만 I LOVE YOU 161073\n",
      "STYLE 29180\n",
      "눈물참기 31983\n",
      "HANDS UP 32290\n",
      "천상연 132785\n",
      "한 페이지가 될 수 있게 357308\n",
      "운명 (2025) 10914\n",
      "LIKE YOU BETTER 32521\n",
      "소나기 185871\n",
      "Supernova 184291\n",
      "toxic till the end 121052\n",
      "내게 사랑이 뭐냐고 물어본다면 78808\n",
      "Die With A Smile 109970\n",
      "MY LOVE(2025) 29276\n",
      "Welcome to the Show 184012\n",
      "Flower 62667\n",
      "사랑은 늘 도망가 228505\n",
      "어떻게 이별까지 사랑하겠어, 널 사랑하는 거지 486400\n",
      "예뻤어 372799\n",
      "첫 만남은 계획대로 되지 않아 163076\n",
      "여름이었다 18273\n",
      "Free 27792\n",
      "그대만 있다면 (여름날 우리 X 너드커넥션 (Nerd Connection)) 156539\n",
      "HOT 44139\n",
      "고민중독 150020\n",
      "TAKEDOWN (JEONGYEON, JIHYO, CHAEYOUNG) 22255\n",
      "내 이름 맑음 101404\n",
      "Pookie 31139\n",
      "그날이 오면 40577\n",
      "네모의 꿈 42746\n",
      "DRIP 65650\n",
      "Hype Boy 311479\n",
      "Supersonic 85213\n",
      "I AM 231959\n",
      "How Sweet 152945\n",
      "Magnetic 136739\n",
      "PO￦ER 160431\n",
      "UP (KARINA Solo) 113946\n",
      "우리들의 블루스 117647\n",
      "Seven (feat. Latto) - Clean Ver. 225260\n",
      "ATTITUDE 63168\n",
      "청혼하지 않을 이유를 못 찾았어 61442\n",
      "Love wins all 213664\n",
      "I DO ME 59982\n",
      "비의 랩소디 103612\n",
      "사랑인가 봐 228174\n",
      "주저하는 연인들을 위해 446526\n",
      "모든 날, 모든 순간 (Every day, Every Moment) 437870\n",
      "슬픈 초대장 73103\n",
      "너의 모든 순간 310839\n",
      "에피소드 131794\n",
      "THUNDER 65673\n",
      "나는 아픈 건 딱 질색이니까 172010\n",
      "다정히 내 이름을 부르면 216242\n",
      "Sticky 93003\n",
      "미치게 그리워서 32719\n",
      "천국보다 아름다운 34672\n",
      "다시 만날 수 있을까 94608\n",
      "봄날 514565\n",
      "헤어지자 말해요 189095\n",
      "이제 나만 믿어요 182136\n",
      "인사 150830\n",
      "Fly Up 44177\n",
      "123-78 58790\n",
      "Small girl (feat. 도경수(D.O.)) 165956\n",
      "Dash 58830\n",
      "무제(無題) (Untitled, 2014) 321583\n",
      "TAKE ME 67809\n",
      "What It Sounds Like 24100\n",
      "모래 알갱이 71083\n",
      "Takedown 19064\n",
      "영원해 33482\n",
      "사막에서 꽃을 피우듯 110238\n",
      "The Chase 39261\n",
      "온기 47262\n"
     ]
    }
   ],
   "source": [
    "for 노래 in 노래_리스트:\n",
    "    print(노래[\"곡명\"], 노래[\"좋아요\"])"
   ]
  },
  {
   "cell_type": "markdown",
   "id": "928b29c3-e144-43df-9b79-ad1433620ead",
   "metadata": {},
   "source": [
    "## 좋아요 내림차순 정렬"
   ]
  },
  {
   "cell_type": "code",
   "execution_count": 23,
   "id": "22f3e2f7-d88a-4f3e-86f7-410fb3eb6e74",
   "metadata": {},
   "outputs": [
    {
     "data": {
      "text/plain": [
       "{'곡일련번호': 39166708,\n",
       " '순위': '1',\n",
       " 'album_uid': 11859863,\n",
       " 'album_name': 'KPop Demon Hunters (Soundtrack from the Netflix Film)',\n",
       " '곡명': 'Golden',\n",
       " 'artist_uid': 4348386,\n",
       " 'artist_name': 'HUNTR/X',\n",
       " '커버이미지_주소': 'https://cdnimg.melon.co.kr/cm2/album/images/118/59/863/11859863_20250620104512_500.jpg',\n",
       " '가사': \"I was a ghost, I was alone, hah\\n어두워진, hah, 앞길속에 (Ah)\\nGiven the throne, I didn't know how to believe\\nI was the queen that I'm meant to be\\nI lived two lives, tried\\u205fto\\u205fplay\\u205fboth sides\\nBut I\\u205fcouldn't find my\\u205fown place\\nCalled a problem child 'cause I got too wild\\nBut now that's how I'm getting paid, 끝없이 on stage\\nI'm done hidin', now I'm shinin' like I'm born to be\\nWe dreamin' hard, we came so far, now I believe\\nWe're goin' up, up, up, it's our moment\\nYou know together we're glowing\\nGonna be, gonna be golden\\nOh, up, up, up with our voices\\n영원히 깨질 수 없는\\nGonna be, gonna be golden\\nOh, I'm done hidin' now I'm shinin' like I'm born to be\\nOh, our time, no fear, no lies\\nThat's who we're born to be\\nWaited so long to break these walls down\\nTo wake up and feel like me\\nPut these patterns all in the past now\\nAnd finally live like the girl they all see\\nNo more hiding, I'll be shining like I'm born to be\\n'Cause we are hunters, voices strong, and I know I believe\\nWe're goin' up, up, up, it's our moment\\nYou know together we're glowing\\nGonna be, gonna be golden\\nOh, up, up, up, with our voices\\n영원히 깨질 수 없는\\nGonna be, gonna be golden\\nOh, I'm done hidin', now I'm shining like I'm born to be\\nOh, our time, no fears, no lies\\nThat's who we're born to be\\nYou know we're gonna be, gonna be golden\\nWe're gonna be, gonna be\\nBorn to be, born to be glowin'\\n밝게 빛나는 우린\\nYou know that it's our time, no fears, no lies\\nThat's who we're born to be\",\n",
       " '장르': ['애니메이션/웹툰'],\n",
       " '발매일': '2025-06-20',\n",
       " '좋아요': 131703}"
      ]
     },
     "execution_count": 23,
     "metadata": {},
     "output_type": "execute_result"
    }
   ],
   "source": [
    "노래_리스트[0]"
   ]
  },
  {
   "cell_type": "code",
   "execution_count": 24,
   "id": "b5ba676e-55b5-4c91-9d83-5eeeacc0f0df",
   "metadata": {},
   "outputs": [
    {
     "data": {
      "text/plain": [
       "False"
      ]
     },
     "execution_count": 24,
     "metadata": {},
     "output_type": "execute_result"
    }
   ],
   "source": [
    "노래_리스트[0][\"좋아요\"] < 노래_리스트[1][\"좋아요\"]"
   ]
  },
  {
   "cell_type": "code",
   "execution_count": 25,
   "id": "d77311b5-c483-4d7e-9ba4-d93c465f8640",
   "metadata": {},
   "outputs": [],
   "source": [
    "def 좋아요_추출(song_a):\n",
    "    return song_a[\"좋아요\"]\n",
    "\n",
    "# 지정 기준, 지정 정렬방향으로 정렬(sort)된 새로운 리스트를 반환\n",
    "정렬된_리스트 = sorted(노래_리스트, key=좋아요_추출, reverse=True)"
   ]
  },
  {
   "cell_type": "code",
   "execution_count": 26,
   "id": "0afece70-4db7-468a-b001-a43ff8b1e63e",
   "metadata": {},
   "outputs": [
    {
     "data": {
      "text/plain": [
       "('봄날', 514565)"
      ]
     },
     "execution_count": 26,
     "metadata": {},
     "output_type": "execute_result"
    }
   ],
   "source": [
    "# 좋아요 수 1위 곡은?\n",
    "song = 정렬된_리스트[0]\n",
    "song[\"곡명\"], song[\"좋아요\"]"
   ]
  },
  {
   "cell_type": "code",
   "execution_count": 27,
   "id": "1306c245-61ce-4339-b008-60d528a4b362",
   "metadata": {},
   "outputs": [
    {
     "data": {
      "text/plain": [
       "{'곡일련번호': 30232719,\n",
       " '순위': '44',\n",
       " 'album_uid': 10036099,\n",
       " 'album_name': 'Every DAY6 February',\n",
       " '곡명': '예뻤어',\n",
       " 'artist_uid': 894864,\n",
       " 'artist_name': 'DAY6 (데이식스)',\n",
       " '커버이미지_주소': 'https://cdnimg.melon.co.kr/cm/album/images/100/36/099/10036099_500.jpg',\n",
       " '가사': \"지금 이 말이\\n우리가 다시\\n시작하자는 건 아냐\\n그저 너의\\n남아있던 기억들이\\n떠올랐을 뿐이야\\n정말 하루도 빠짐없이 너는\\n사랑한다 말해줬었지\\n잠들기 전에 또 \\n눈 뜨자마자 말해주던 너\\n생각이 나 말해보는 거야\\n예뻤어\\n날 바라봐 주던 그 눈빛\\n날 불러주던 그 목소리\\n다 다\\n그 모든 게 내겐\\n예뻤어\\n더 바랄게 없는듯한 느낌\\n오직 너만이 주던 순간들\\n다 다\\n지났지만\\n넌 너무 예뻤어\\n너도 이제는\\n나와의 기억이\\n추억이 되었을 거야\\n너에게는\\n어떤 말을 해도 다\\n지나간 일일 거야\\n정말 한번도 빠짐없이 너는\\n나를 먼저 생각해줬어 \\n아무 일 아니어도 \\n미안해 고마워 해주던 너\\n생각이 나 말해보는 거야\\n예뻤어\\n날 바라봐 주던 그 눈빛\\n날 불러주던 그 목소리\\n다 다\\n그 모든 게 내겐\\n예뻤어\\n더 바랄게 없는듯한 느낌\\n오직 너만이 주던 순간들\\n다 다\\n지났지만\\n넌 너무 예뻤어\\n아직도 가끔 네 생각이 나\\n어렵게 전화를 걸어볼까\\n생각이 들 때도 많지만\\nBaby I know it's already over\\n아무리 원해도 너는 이제\\n이미 끝나버린 지난날의\\n한편의 영화였었단 걸\\n난 알아\\n마지막\\n날 바라봐 주던 그 눈빛\\n잘 지내라던 그 목소리\\n다 다\\n그마저도 내겐\\n예뻤어\\n내게 보여준 눈물까지\\n너와 가졌던 순간들은\\n다 다\\n지났지만\\n넌 너무 예뻤어\",\n",
       " '장르': ['록/메탈'],\n",
       " '발매일': '2017-02-06',\n",
       " '좋아요': 372799}"
      ]
     },
     "execution_count": 27,
     "metadata": {},
     "output_type": "execute_result"
    }
   ],
   "source": [
    "# 좋아요 TOP 5 는 ?\n",
    "정렬된_리스트[4]"
   ]
  },
  {
   "cell_type": "code",
   "execution_count": 28,
   "id": "37706fd7-5475-4c1f-be74-8b108a185aa0",
   "metadata": {},
   "outputs": [
    {
     "name": "stdout",
     "output_type": "stream",
     "text": [
      "봄날 514565\n",
      "어떻게 이별까지 사랑하겠어, 널 사랑하는 거지 486400\n",
      "주저하는 연인들을 위해 446526\n",
      "모든 날, 모든 순간 (Every day, Every Moment) 437870\n",
      "예뻤어 372799\n"
     ]
    }
   ],
   "source": [
    "# 좋아요 수 1위곡 ~ 5위곡 출력\n",
    "for song in 정렬된_리스트[0:5]:  # 슬라이싱 (slicing)\n",
    "    print(song[\"곡명\"], song[\"좋아요\"])"
   ]
  },
  {
   "cell_type": "code",
   "execution_count": null,
   "id": "561033d8-9522-4d82-989d-a4e51b2d8ee3",
   "metadata": {},
   "outputs": [],
   "source": []
  },
  {
   "cell_type": "markdown",
   "id": "cd25c0a3-ce65-42df-85c8-130c608b65ec",
   "metadata": {},
   "source": [
    "# 함수"
   ]
  },
  {
   "cell_type": "markdown",
   "id": "f771893c-66e3-4991-8886-0d4230011536",
   "metadata": {},
   "source": [
    "+ 작업 지시서"
   ]
  },
  {
   "cell_type": "code",
   "execution_count": 29,
   "id": "b34476bc-46fc-4215-b331-e67bf1c4b1a8",
   "metadata": {},
   "outputs": [],
   "source": [
    "def mysum():  # 함수명이 각 함수를 구별하는 유일한 식별자\n",
    "    # ...\n",
    "    print(\"mysum 함수 호출됨\")\n",
    "    return 10"
   ]
  },
  {
   "cell_type": "code",
   "execution_count": 30,
   "id": "f85d42bd-6b7d-47e8-9664-c106b76291bf",
   "metadata": {},
   "outputs": [
    {
     "name": "stdout",
     "output_type": "stream",
     "text": [
      "mysum 함수 호출됨\n"
     ]
    },
    {
     "data": {
      "text/plain": [
       "10"
      ]
     },
     "execution_count": 30,
     "metadata": {},
     "output_type": "execute_result"
    }
   ],
   "source": [
    "# 함수를 수행한다. => 함수를 호출(Call) 한다.\n",
    "mysum()"
   ]
  },
  {
   "cell_type": "code",
   "execution_count": 31,
   "id": "e1e1f036-c505-404e-920b-87f4014dc37c",
   "metadata": {},
   "outputs": [],
   "source": [
    "def mysum10(a, b):  # 인자 (Arguments)\n",
    "    return a + b * 10"
   ]
  },
  {
   "cell_type": "code",
   "execution_count": 32,
   "id": "5087502c-ffeb-40c1-9977-8ec790bacbc5",
   "metadata": {},
   "outputs": [
    {
     "data": {
      "text/plain": [
       "21"
      ]
     },
     "execution_count": 32,
     "metadata": {},
     "output_type": "execute_result"
    }
   ],
   "source": [
    "mysum10(1, 2)"
   ]
  },
  {
   "cell_type": "code",
   "execution_count": 33,
   "id": "2dc52182-9a4a-4a1b-8d2d-59db2c87d3b0",
   "metadata": {},
   "outputs": [
    {
     "data": {
      "text/plain": [
       "12"
      ]
     },
     "execution_count": 33,
     "metadata": {},
     "output_type": "execute_result"
    }
   ],
   "source": [
    "# 항상 해당 인덱스의 인자가 무엇인지, 신경써서 인자를 지정해야만 합니다.\n",
    "mysum10(2, 1)  # 위치 인자 (Positional Arugments) : 순서로 구별"
   ]
  },
  {
   "cell_type": "code",
   "execution_count": 34,
   "id": "f9880131-5818-4796-922c-efd7ea29add7",
   "metadata": {},
   "outputs": [
    {
     "data": {
      "text/plain": [
       "21"
      ]
     },
     "execution_count": 34,
     "metadata": {},
     "output_type": "execute_result"
    }
   ],
   "source": [
    "mysum10(b=2, a=1)  # 키워드 인자 (Keyword Arguments) : 인자명으로 구별"
   ]
  },
  {
   "cell_type": "code",
   "execution_count": 35,
   "id": "ee16452a-2358-483d-83de-e1f2db70d8a9",
   "metadata": {},
   "outputs": [
    {
     "data": {
      "text/plain": [
       "21"
      ]
     },
     "execution_count": 35,
     "metadata": {},
     "output_type": "execute_result"
    }
   ],
   "source": [
    "mysum10(a=1, b=2)"
   ]
  },
  {
   "cell_type": "code",
   "execution_count": 36,
   "id": "76c4c326-869f-4e70-ba75-5e35ad08ccb4",
   "metadata": {},
   "outputs": [
    {
     "name": "stdout",
     "output_type": "stream",
     "text": [
      "26\n",
      "23\n"
     ]
    }
   ],
   "source": [
    "def mysum20(x, y, z=0):  # 디폴트 인자\n",
    "    return x + y + z + 20\n",
    "\n",
    "print(mysum20(1, 2, 3))\n",
    "print(mysum20(1, 2))"
   ]
  },
  {
   "cell_type": "markdown",
   "id": "c4690844-6ff4-48ec-a7a1-5f052089a4f9",
   "metadata": {},
   "source": [
    "# Pandas"
   ]
  },
  {
   "cell_type": "code",
   "execution_count": 37,
   "id": "b14c3824-64e0-44d0-a537-9b21f05c49d8",
   "metadata": {},
   "outputs": [],
   "source": [
    "import pandas as pd"
   ]
  },
  {
   "cell_type": "code",
   "execution_count": 38,
   "id": "24cf3415-d5b7-45c0-804b-e537fe6ef442",
   "metadata": {},
   "outputs": [
    {
     "name": "stdout",
     "output_type": "stream",
     "text": [
      "(100, 12)\n"
     ]
    },
    {
     "data": {
      "text/html": [
       "<div>\n",
       "<style scoped>\n",
       "    .dataframe tbody tr th:only-of-type {\n",
       "        vertical-align: middle;\n",
       "    }\n",
       "\n",
       "    .dataframe tbody tr th {\n",
       "        vertical-align: top;\n",
       "    }\n",
       "\n",
       "    .dataframe thead th {\n",
       "        text-align: right;\n",
       "    }\n",
       "</style>\n",
       "<table border=\"1\" class=\"dataframe\">\n",
       "  <thead>\n",
       "    <tr style=\"text-align: right;\">\n",
       "      <th></th>\n",
       "      <th>곡일련번호</th>\n",
       "      <th>순위</th>\n",
       "      <th>album_uid</th>\n",
       "      <th>album_name</th>\n",
       "      <th>곡명</th>\n",
       "      <th>artist_uid</th>\n",
       "      <th>artist_name</th>\n",
       "      <th>커버이미지_주소</th>\n",
       "      <th>가사</th>\n",
       "      <th>장르</th>\n",
       "      <th>발매일</th>\n",
       "      <th>좋아요</th>\n",
       "    </tr>\n",
       "  </thead>\n",
       "  <tbody>\n",
       "    <tr>\n",
       "      <th>0</th>\n",
       "      <td>39166708</td>\n",
       "      <td>1</td>\n",
       "      <td>11859863</td>\n",
       "      <td>KPop Demon Hunters (Soundtrack from the Netfli...</td>\n",
       "      <td>Golden</td>\n",
       "      <td>4348386</td>\n",
       "      <td>HUNTR/X</td>\n",
       "      <td>https://cdnimg.melon.co.kr/cm2/album/images/11...</td>\n",
       "      <td>I was a ghost, I was alone, hah\\n어두워진, hah, 앞길...</td>\n",
       "      <td>[애니메이션/웹툰]</td>\n",
       "      <td>2025-06-20</td>\n",
       "      <td>131703</td>\n",
       "    </tr>\n",
       "    <tr>\n",
       "      <th>1</th>\n",
       "      <td>39166705</td>\n",
       "      <td>2</td>\n",
       "      <td>11859863</td>\n",
       "      <td>KPop Demon Hunters (Soundtrack from the Netfli...</td>\n",
       "      <td>Soda Pop</td>\n",
       "      <td>4348387</td>\n",
       "      <td>KPop Demon Hunters Cast</td>\n",
       "      <td>https://cdnimg.melon.co.kr/cm2/album/images/11...</td>\n",
       "      <td>Hey, hey\\nHey, hey\\nHey\\n\\n\\nDon't want you, n...</td>\n",
       "      <td>[애니메이션/웹툰]</td>\n",
       "      <td>2025-06-20</td>\n",
       "      <td>79211</td>\n",
       "    </tr>\n",
       "    <tr>\n",
       "      <th>2</th>\n",
       "      <td>39156202</td>\n",
       "      <td>3</td>\n",
       "      <td>11857160</td>\n",
       "      <td>FAMOUS</td>\n",
       "      <td>FAMOUS</td>\n",
       "      <td>4346804</td>\n",
       "      <td>ALLDAY PROJECT</td>\n",
       "      <td>https://cdnimg.melon.co.kr/cm2/album/images/11...</td>\n",
       "      <td>분명 나쁜 아이는 아니어도\\n또 틀에 가두면 we break it\\nBum no b...</td>\n",
       "      <td>[댄스]</td>\n",
       "      <td>2025-06-23</td>\n",
       "      <td>94335</td>\n",
       "    </tr>\n",
       "    <tr>\n",
       "      <th>3</th>\n",
       "      <td>39298775</td>\n",
       "      <td>4</td>\n",
       "      <td>11890480</td>\n",
       "      <td>뛰어(JUMP)</td>\n",
       "      <td>뛰어(JUMP)</td>\n",
       "      <td>995169</td>\n",
       "      <td>BLACKPINK</td>\n",
       "      <td>https://cdnimg.melon.co.kr/cm2/album/images/11...</td>\n",
       "      <td>I’m not that easy to tame\\nYou should see me u...</td>\n",
       "      <td>[댄스]</td>\n",
       "      <td>2025-07-11</td>\n",
       "      <td>53700</td>\n",
       "    </tr>\n",
       "    <tr>\n",
       "      <th>4</th>\n",
       "      <td>36397952</td>\n",
       "      <td>5</td>\n",
       "      <td>11183506</td>\n",
       "      <td>OO-LI</td>\n",
       "      <td>Drowning</td>\n",
       "      <td>2086047</td>\n",
       "      <td>WOODZ</td>\n",
       "      <td>https://cdnimg.melon.co.kr/cm2/album/images/11...</td>\n",
       "      <td>미치도록 사랑했던\\n지겹도록 다투었던\\n네가 먼저 떠나고\\n여긴 온종일 비가 왔어\\...</td>\n",
       "      <td>[록/메탈]</td>\n",
       "      <td>2023-04-26</td>\n",
       "      <td>238157</td>\n",
       "    </tr>\n",
       "  </tbody>\n",
       "</table>\n",
       "</div>"
      ],
      "text/plain": [
       "      곡일련번호 순위  album_uid                                         album_name  \\\n",
       "0  39166708  1   11859863  KPop Demon Hunters (Soundtrack from the Netfli...   \n",
       "1  39166705  2   11859863  KPop Demon Hunters (Soundtrack from the Netfli...   \n",
       "2  39156202  3   11857160                                             FAMOUS   \n",
       "3  39298775  4   11890480                                           뛰어(JUMP)   \n",
       "4  36397952  5   11183506                                              OO-LI   \n",
       "\n",
       "         곡명  artist_uid              artist_name  \\\n",
       "0    Golden     4348386                  HUNTR/X   \n",
       "1  Soda Pop     4348387  KPop Demon Hunters Cast   \n",
       "2    FAMOUS     4346804           ALLDAY PROJECT   \n",
       "3  뛰어(JUMP)      995169                BLACKPINK   \n",
       "4  Drowning     2086047                    WOODZ   \n",
       "\n",
       "                                            커버이미지_주소  \\\n",
       "0  https://cdnimg.melon.co.kr/cm2/album/images/11...   \n",
       "1  https://cdnimg.melon.co.kr/cm2/album/images/11...   \n",
       "2  https://cdnimg.melon.co.kr/cm2/album/images/11...   \n",
       "3  https://cdnimg.melon.co.kr/cm2/album/images/11...   \n",
       "4  https://cdnimg.melon.co.kr/cm2/album/images/11...   \n",
       "\n",
       "                                                  가사          장르         발매일  \\\n",
       "0  I was a ghost, I was alone, hah\\n어두워진, hah, 앞길...  [애니메이션/웹툰]  2025-06-20   \n",
       "1  Hey, hey\\nHey, hey\\nHey\\n\\n\\nDon't want you, n...  [애니메이션/웹툰]  2025-06-20   \n",
       "2  분명 나쁜 아이는 아니어도\\n또 틀에 가두면 we break it\\nBum no b...        [댄스]  2025-06-23   \n",
       "3  I’m not that easy to tame\\nYou should see me u...        [댄스]  2025-07-11   \n",
       "4  미치도록 사랑했던\\n지겹도록 다투었던\\n네가 먼저 떠나고\\n여긴 온종일 비가 왔어\\...      [록/메탈]  2023-04-26   \n",
       "\n",
       "      좋아요  \n",
       "0  131703  \n",
       "1   79211  \n",
       "2   94335  \n",
       "3   53700  \n",
       "4  238157  "
      ]
     },
     "execution_count": 38,
     "metadata": {},
     "output_type": "execute_result"
    }
   ],
   "source": [
    "df = pd.DataFrame(노래_리스트)\n",
    "print(df.shape)  # rows/columns 개수 출력\n",
    "df.head(n=5)  # 상위 5개행 출력"
   ]
  },
  {
   "cell_type": "code",
   "execution_count": 39,
   "id": "4941a1ce-9682-448f-8cc6-529ba6f362c4",
   "metadata": {},
   "outputs": [
    {
     "data": {
      "text/html": [
       "<div>\n",
       "<style scoped>\n",
       "    .dataframe tbody tr th:only-of-type {\n",
       "        vertical-align: middle;\n",
       "    }\n",
       "\n",
       "    .dataframe tbody tr th {\n",
       "        vertical-align: top;\n",
       "    }\n",
       "\n",
       "    .dataframe thead th {\n",
       "        text-align: right;\n",
       "    }\n",
       "</style>\n",
       "<table border=\"1\" class=\"dataframe\">\n",
       "  <thead>\n",
       "    <tr style=\"text-align: right;\">\n",
       "      <th></th>\n",
       "      <th>곡일련번호</th>\n",
       "      <th>순위</th>\n",
       "      <th>album_uid</th>\n",
       "      <th>album_name</th>\n",
       "      <th>곡명</th>\n",
       "      <th>artist_uid</th>\n",
       "      <th>artist_name</th>\n",
       "      <th>커버이미지_주소</th>\n",
       "      <th>가사</th>\n",
       "      <th>장르</th>\n",
       "      <th>발매일</th>\n",
       "      <th>좋아요</th>\n",
       "    </tr>\n",
       "  </thead>\n",
       "  <tbody>\n",
       "    <tr>\n",
       "      <th>0</th>\n",
       "      <td>39166708</td>\n",
       "      <td>1</td>\n",
       "      <td>11859863</td>\n",
       "      <td>KPop Demon Hunters (Soundtrack from the Netfli...</td>\n",
       "      <td>Golden</td>\n",
       "      <td>4348386</td>\n",
       "      <td>HUNTR/X</td>\n",
       "      <td>https://cdnimg.melon.co.kr/cm2/album/images/11...</td>\n",
       "      <td>I was a ghost, I was alone, hah\\n어두워진, hah, 앞길...</td>\n",
       "      <td>[애니메이션/웹툰]</td>\n",
       "      <td>2025-06-20</td>\n",
       "      <td>131703</td>\n",
       "    </tr>\n",
       "    <tr>\n",
       "      <th>1</th>\n",
       "      <td>39166705</td>\n",
       "      <td>2</td>\n",
       "      <td>11859863</td>\n",
       "      <td>KPop Demon Hunters (Soundtrack from the Netfli...</td>\n",
       "      <td>Soda Pop</td>\n",
       "      <td>4348387</td>\n",
       "      <td>KPop Demon Hunters Cast</td>\n",
       "      <td>https://cdnimg.melon.co.kr/cm2/album/images/11...</td>\n",
       "      <td>Hey, hey\\nHey, hey\\nHey\\n\\n\\nDon't want you, n...</td>\n",
       "      <td>[애니메이션/웹툰]</td>\n",
       "      <td>2025-06-20</td>\n",
       "      <td>79211</td>\n",
       "    </tr>\n",
       "    <tr>\n",
       "      <th>2</th>\n",
       "      <td>39156202</td>\n",
       "      <td>3</td>\n",
       "      <td>11857160</td>\n",
       "      <td>FAMOUS</td>\n",
       "      <td>FAMOUS</td>\n",
       "      <td>4346804</td>\n",
       "      <td>ALLDAY PROJECT</td>\n",
       "      <td>https://cdnimg.melon.co.kr/cm2/album/images/11...</td>\n",
       "      <td>분명 나쁜 아이는 아니어도\\n또 틀에 가두면 we break it\\nBum no b...</td>\n",
       "      <td>[댄스]</td>\n",
       "      <td>2025-06-23</td>\n",
       "      <td>94335</td>\n",
       "    </tr>\n",
       "    <tr>\n",
       "      <th>3</th>\n",
       "      <td>39298775</td>\n",
       "      <td>4</td>\n",
       "      <td>11890480</td>\n",
       "      <td>뛰어(JUMP)</td>\n",
       "      <td>뛰어(JUMP)</td>\n",
       "      <td>995169</td>\n",
       "      <td>BLACKPINK</td>\n",
       "      <td>https://cdnimg.melon.co.kr/cm2/album/images/11...</td>\n",
       "      <td>I’m not that easy to tame\\nYou should see me u...</td>\n",
       "      <td>[댄스]</td>\n",
       "      <td>2025-07-11</td>\n",
       "      <td>53700</td>\n",
       "    </tr>\n",
       "    <tr>\n",
       "      <th>4</th>\n",
       "      <td>36397952</td>\n",
       "      <td>5</td>\n",
       "      <td>11183506</td>\n",
       "      <td>OO-LI</td>\n",
       "      <td>Drowning</td>\n",
       "      <td>2086047</td>\n",
       "      <td>WOODZ</td>\n",
       "      <td>https://cdnimg.melon.co.kr/cm2/album/images/11...</td>\n",
       "      <td>미치도록 사랑했던\\n지겹도록 다투었던\\n네가 먼저 떠나고\\n여긴 온종일 비가 왔어\\...</td>\n",
       "      <td>[록/메탈]</td>\n",
       "      <td>2023-04-26</td>\n",
       "      <td>238157</td>\n",
       "    </tr>\n",
       "    <tr>\n",
       "      <th>...</th>\n",
       "      <td>...</td>\n",
       "      <td>...</td>\n",
       "      <td>...</td>\n",
       "      <td>...</td>\n",
       "      <td>...</td>\n",
       "      <td>...</td>\n",
       "      <td>...</td>\n",
       "      <td>...</td>\n",
       "      <td>...</td>\n",
       "      <td>...</td>\n",
       "      <td>...</td>\n",
       "      <td>...</td>\n",
       "    </tr>\n",
       "    <tr>\n",
       "      <th>95</th>\n",
       "      <td>39166712</td>\n",
       "      <td>96</td>\n",
       "      <td>11859863</td>\n",
       "      <td>KPop Demon Hunters (Soundtrack from the Netfli...</td>\n",
       "      <td>Takedown</td>\n",
       "      <td>4348386</td>\n",
       "      <td>HUNTR/X</td>\n",
       "      <td>https://cdnimg.melon.co.kr/cm2/album/images/11...</td>\n",
       "      <td>Takedown, takedown\\nTakedown, down, down, down...</td>\n",
       "      <td>[애니메이션/웹툰]</td>\n",
       "      <td>2025-06-20</td>\n",
       "      <td>19064</td>\n",
       "    </tr>\n",
       "    <tr>\n",
       "      <th>96</th>\n",
       "      <td>38862952</td>\n",
       "      <td>97</td>\n",
       "      <td>11788908</td>\n",
       "      <td>언젠가는 슬기로울 전공의생활 OST Part 6</td>\n",
       "      <td>영원해</td>\n",
       "      <td>672853</td>\n",
       "      <td>도경수(D.O.)</td>\n",
       "      <td>https://cdnimg.melon.co.kr/cm2/album/images/11...</td>\n",
       "      <td>우리는 영원해\\n그럴 거라 믿어 의심치 않아\\n꼭 잡은 두 손 사이로 바람이 드는 ...</td>\n",
       "      <td>[발라드, 국내드라마]</td>\n",
       "      <td>2025-04-27</td>\n",
       "      <td>33482</td>\n",
       "    </tr>\n",
       "    <tr>\n",
       "      <th>97</th>\n",
       "      <td>36616378</td>\n",
       "      <td>98</td>\n",
       "      <td>11285867</td>\n",
       "      <td>사막에서 꽃을 피우듯</td>\n",
       "      <td>사막에서 꽃을 피우듯</td>\n",
       "      <td>673033</td>\n",
       "      <td>우디 (Woody)</td>\n",
       "      <td>https://cdnimg.melon.co.kr/cm2/album/images/11...</td>\n",
       "      <td>아침에 눈 뜨는 게 너무 행복해졌어 \\n널 사랑한다 말할 수 있어서 하늘에 감사해 ...</td>\n",
       "      <td>[발라드]</td>\n",
       "      <td>2023-07-14</td>\n",
       "      <td>110238</td>\n",
       "    </tr>\n",
       "    <tr>\n",
       "      <th>98</th>\n",
       "      <td>38583704</td>\n",
       "      <td>99</td>\n",
       "      <td>11720981</td>\n",
       "      <td>The Chase</td>\n",
       "      <td>The Chase</td>\n",
       "      <td>4096106</td>\n",
       "      <td>Hearts2Hearts (하츠투하츠)</td>\n",
       "      <td>https://cdnimg.melon.co.kr/cm2/album/images/11...</td>\n",
       "      <td>꿈이 꿈을 꾸는데\\nBeamy beamy 그 빛에\\n홀린 듯이 따라 걸어\\n호기심은...</td>\n",
       "      <td>[댄스]</td>\n",
       "      <td>2025-02-24</td>\n",
       "      <td>39261</td>\n",
       "    </tr>\n",
       "    <tr>\n",
       "      <th>99</th>\n",
       "      <td>37491072</td>\n",
       "      <td>100</td>\n",
       "      <td>11481211</td>\n",
       "      <td>온기</td>\n",
       "      <td>온기</td>\n",
       "      <td>994944</td>\n",
       "      <td>임영웅</td>\n",
       "      <td>https://cdnimg.melon.co.kr/cm2/album/images/11...</td>\n",
       "      <td>아무도 모를 거야 \\n말한 적 없을 테니\\n아이처럼 울고 싶은 순간들\\n어른이란 말...</td>\n",
       "      <td>[발라드]</td>\n",
       "      <td>2024-05-06</td>\n",
       "      <td>47262</td>\n",
       "    </tr>\n",
       "  </tbody>\n",
       "</table>\n",
       "<p>100 rows × 12 columns</p>\n",
       "</div>"
      ],
      "text/plain": [
       "       곡일련번호   순위  album_uid  \\\n",
       "0   39166708    1   11859863   \n",
       "1   39166705    2   11859863   \n",
       "2   39156202    3   11857160   \n",
       "3   39298775    4   11890480   \n",
       "4   36397952    5   11183506   \n",
       "..       ...  ...        ...   \n",
       "95  39166712   96   11859863   \n",
       "96  38862952   97   11788908   \n",
       "97  36616378   98   11285867   \n",
       "98  38583704   99   11720981   \n",
       "99  37491072  100   11481211   \n",
       "\n",
       "                                           album_name           곡명  \\\n",
       "0   KPop Demon Hunters (Soundtrack from the Netfli...       Golden   \n",
       "1   KPop Demon Hunters (Soundtrack from the Netfli...     Soda Pop   \n",
       "2                                              FAMOUS       FAMOUS   \n",
       "3                                            뛰어(JUMP)     뛰어(JUMP)   \n",
       "4                                               OO-LI     Drowning   \n",
       "..                                                ...          ...   \n",
       "95  KPop Demon Hunters (Soundtrack from the Netfli...     Takedown   \n",
       "96                         언젠가는 슬기로울 전공의생활 OST Part 6          영원해   \n",
       "97                                        사막에서 꽃을 피우듯  사막에서 꽃을 피우듯   \n",
       "98                                          The Chase    The Chase   \n",
       "99                                                 온기           온기   \n",
       "\n",
       "    artist_uid              artist_name  \\\n",
       "0      4348386                  HUNTR/X   \n",
       "1      4348387  KPop Demon Hunters Cast   \n",
       "2      4346804           ALLDAY PROJECT   \n",
       "3       995169                BLACKPINK   \n",
       "4      2086047                    WOODZ   \n",
       "..         ...                      ...   \n",
       "95     4348386                  HUNTR/X   \n",
       "96      672853                도경수(D.O.)   \n",
       "97      673033               우디 (Woody)   \n",
       "98     4096106    Hearts2Hearts (하츠투하츠)   \n",
       "99      994944                      임영웅   \n",
       "\n",
       "                                             커버이미지_주소  \\\n",
       "0   https://cdnimg.melon.co.kr/cm2/album/images/11...   \n",
       "1   https://cdnimg.melon.co.kr/cm2/album/images/11...   \n",
       "2   https://cdnimg.melon.co.kr/cm2/album/images/11...   \n",
       "3   https://cdnimg.melon.co.kr/cm2/album/images/11...   \n",
       "4   https://cdnimg.melon.co.kr/cm2/album/images/11...   \n",
       "..                                                ...   \n",
       "95  https://cdnimg.melon.co.kr/cm2/album/images/11...   \n",
       "96  https://cdnimg.melon.co.kr/cm2/album/images/11...   \n",
       "97  https://cdnimg.melon.co.kr/cm2/album/images/11...   \n",
       "98  https://cdnimg.melon.co.kr/cm2/album/images/11...   \n",
       "99  https://cdnimg.melon.co.kr/cm2/album/images/11...   \n",
       "\n",
       "                                                   가사            장르  \\\n",
       "0   I was a ghost, I was alone, hah\\n어두워진, hah, 앞길...    [애니메이션/웹툰]   \n",
       "1   Hey, hey\\nHey, hey\\nHey\\n\\n\\nDon't want you, n...    [애니메이션/웹툰]   \n",
       "2   분명 나쁜 아이는 아니어도\\n또 틀에 가두면 we break it\\nBum no b...          [댄스]   \n",
       "3   I’m not that easy to tame\\nYou should see me u...          [댄스]   \n",
       "4   미치도록 사랑했던\\n지겹도록 다투었던\\n네가 먼저 떠나고\\n여긴 온종일 비가 왔어\\...        [록/메탈]   \n",
       "..                                                ...           ...   \n",
       "95  Takedown, takedown\\nTakedown, down, down, down...    [애니메이션/웹툰]   \n",
       "96  우리는 영원해\\n그럴 거라 믿어 의심치 않아\\n꼭 잡은 두 손 사이로 바람이 드는 ...  [발라드, 국내드라마]   \n",
       "97  아침에 눈 뜨는 게 너무 행복해졌어 \\n널 사랑한다 말할 수 있어서 하늘에 감사해 ...         [발라드]   \n",
       "98  꿈이 꿈을 꾸는데\\nBeamy beamy 그 빛에\\n홀린 듯이 따라 걸어\\n호기심은...          [댄스]   \n",
       "99  아무도 모를 거야 \\n말한 적 없을 테니\\n아이처럼 울고 싶은 순간들\\n어른이란 말...         [발라드]   \n",
       "\n",
       "           발매일     좋아요  \n",
       "0   2025-06-20  131703  \n",
       "1   2025-06-20   79211  \n",
       "2   2025-06-23   94335  \n",
       "3   2025-07-11   53700  \n",
       "4   2023-04-26  238157  \n",
       "..         ...     ...  \n",
       "95  2025-06-20   19064  \n",
       "96  2025-04-27   33482  \n",
       "97  2023-07-14  110238  \n",
       "98  2025-02-24   39261  \n",
       "99  2024-05-06   47262  \n",
       "\n",
       "[100 rows x 12 columns]"
      ]
     },
     "execution_count": 39,
     "metadata": {},
     "output_type": "execute_result"
    }
   ],
   "source": [
    "df"
   ]
  },
  {
   "cell_type": "code",
   "execution_count": null,
   "id": "2893fe87-279a-46ca-b331-8bb708cb4a11",
   "metadata": {},
   "outputs": [],
   "source": []
  },
  {
   "cell_type": "code",
   "execution_count": null,
   "id": "f07dd23d-f492-4c48-822c-0fcfcc1d57df",
   "metadata": {},
   "outputs": [],
   "source": []
  },
  {
   "cell_type": "code",
   "execution_count": null,
   "id": "4c10f342-fe1e-4fef-999d-f3788df046b5",
   "metadata": {},
   "outputs": [],
   "source": []
  },
  {
   "cell_type": "code",
   "execution_count": null,
   "id": "abd3edf8-c75a-4dd7-a90a-9950bf658730",
   "metadata": {},
   "outputs": [],
   "source": []
  },
  {
   "cell_type": "code",
   "execution_count": null,
   "id": "2ae15c6c-ead5-41db-81dc-d8bec1e634e4",
   "metadata": {},
   "outputs": [],
   "source": []
  },
  {
   "cell_type": "code",
   "execution_count": null,
   "id": "7290b781-8986-4962-afb7-c0068961ea88",
   "metadata": {},
   "outputs": [],
   "source": []
  },
  {
   "cell_type": "code",
   "execution_count": null,
   "id": "eeb1c9bb-5cd4-46fa-b547-0e28f582c330",
   "metadata": {},
   "outputs": [],
   "source": []
  },
  {
   "cell_type": "code",
   "execution_count": null,
   "id": "ff4e8900-f013-4d58-b326-1a98ff93d753",
   "metadata": {},
   "outputs": [],
   "source": []
  },
  {
   "cell_type": "code",
   "execution_count": null,
   "id": "e531e728-f0a2-496a-aee5-e5ea3798ec52",
   "metadata": {},
   "outputs": [],
   "source": []
  }
 ],
 "metadata": {
  "kernelspec": {
   "display_name": "Python 3 (ipykernel)",
   "language": "python",
   "name": "python3"
  },
  "language_info": {
   "codemirror_mode": {
    "name": "ipython",
    "version": 3
   },
   "file_extension": ".py",
   "mimetype": "text/x-python",
   "name": "python",
   "nbconvert_exporter": "python",
   "pygments_lexer": "ipython3",
   "version": "3.13.8"
  }
 },
 "nbformat": 4,
 "nbformat_minor": 5
}
