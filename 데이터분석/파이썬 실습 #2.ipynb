{
 "cells": [
  {
   "cell_type": "markdown",
   "id": "8aad9f9a-8ab4-46c1-938c-2a7c9751d9e1",
   "metadata": {},
   "source": [
    "# 문자열과 인덱싱"
   ]
  },
  {
   "cell_type": "code",
   "execution_count": 1,
   "id": "59f29dd0-56d5-4769-a2d0-23f5ae94e7a4",
   "metadata": {},
   "outputs": [
    {
     "data": {
      "text/plain": [
       "'hello'"
      ]
     },
     "execution_count": 1,
     "metadata": {},
     "output_type": "execute_result"
    }
   ],
   "source": [
    "\"hello\"  # 5글자"
   ]
  },
  {
   "cell_type": "code",
   "execution_count": 2,
   "id": "489d6782-4758-4b7e-b291-65782393f89f",
   "metadata": {},
   "outputs": [
    {
     "data": {
      "text/plain": [
       "'안녕하세요'"
      ]
     },
     "execution_count": 2,
     "metadata": {},
     "output_type": "execute_result"
    }
   ],
   "source": [
    "\"안녕하세요\"  # 5글자. 일본어/한자 등 모든 글자에 대해서 모두 1글자씩 카운트"
   ]
  },
  {
   "cell_type": "code",
   "execution_count": 3,
   "id": "f67730f3-7057-44cc-aa46-9511a97ea516",
   "metadata": {},
   "outputs": [
    {
     "data": {
      "text/plain": [
       "(5, 5)"
      ]
     },
     "execution_count": 3,
     "metadata": {},
     "output_type": "execute_result"
    }
   ],
   "source": [
    "len(\"hello\"), len(\"안녕하세요\")"
   ]
  },
  {
   "cell_type": "markdown",
   "id": "4806aad9-d2ef-44f4-b00b-b3e56f5c34f4",
   "metadata": {},
   "source": [
    "글자수 != 데이터크기\n",
    "\n",
    "+ 영어는 1 Byte 문자\n",
    "+ CJK (중국어, 일본어, 한국어) 문자들은 Multi Bytes 문자 (2 바이트 이상)\n",
    "\n",
    "파이썬 코드 내에서는 딱히 어떤 언어인지를 신경쓸 필요가 거의 없어요.\n",
    "그냥 글자는 글자일 뿐.\n",
    "\n",
    "저장할 때, 저장되는 데이터 크기가 다르다. 정도만 인지하면 됩니다."
   ]
  },
  {
   "cell_type": "markdown",
   "id": "9bd14b34-d23c-462a-bbd3-79d66dc3c77f",
   "metadata": {},
   "source": [
    "## 문자열은 변경 불가능합니다. (Immutable)"
   ]
  },
  {
   "cell_type": "code",
   "execution_count": 4,
   "id": "60c0adce-28ae-4ebe-a986-598c2f8aad21",
   "metadata": {},
   "outputs": [
    {
     "data": {
      "text/plain": [
       "'이진석'"
      ]
     },
     "execution_count": 4,
     "metadata": {},
     "output_type": "execute_result"
    }
   ],
   "source": [
    "name = \"이진석\"\n",
    "name"
   ]
  },
  {
   "cell_type": "code",
   "execution_count": 5,
   "id": "ea3f4328-5f4f-4894-9977-3a3d28302399",
   "metadata": {},
   "outputs": [
    {
     "data": {
      "text/plain": [
       "'이'"
      ]
     },
     "execution_count": 5,
     "metadata": {},
     "output_type": "execute_result"
    }
   ],
   "source": [
    "name[0]  # 인덱스 0 문자"
   ]
  },
  {
   "cell_type": "code",
   "execution_count": 6,
   "id": "d1736782-1dbc-4e35-897d-61e0370f95a9",
   "metadata": {},
   "outputs": [
    {
     "ename": "TypeError",
     "evalue": "'str' object does not support item assignment",
     "output_type": "error",
     "traceback": [
      "\u001b[31m---------------------------------------------------------------------------\u001b[39m",
      "\u001b[31mTypeError\u001b[39m                                 Traceback (most recent call last)",
      "\u001b[36mCell\u001b[39m\u001b[36m \u001b[39m\u001b[32mIn[6]\u001b[39m\u001b[32m, line 1\u001b[39m\n\u001b[32m----> \u001b[39m\u001b[32m1\u001b[39m \u001b[43mname\u001b[49m\u001b[43m[\u001b[49m\u001b[32;43m0\u001b[39;49m\u001b[43m]\u001b[49m = \u001b[33m\"\u001b[39m\u001b[33m박\u001b[39m\u001b[33m\"\u001b[39m\n",
      "\u001b[31mTypeError\u001b[39m: 'str' object does not support item assignment"
     ]
    }
   ],
   "source": [
    "name[0] = \"박\""
   ]
  },
  {
   "cell_type": "code",
   "execution_count": 7,
   "id": "69289620-d3fb-4e4e-9c70-640738344fbd",
   "metadata": {},
   "outputs": [],
   "source": [
    "name = \"박진석\"  # 개별 글자만 변경 X. 한 번에 다 변경."
   ]
  },
  {
   "cell_type": "code",
   "execution_count": 10,
   "id": "7e347b3c-6397-4553-b786-fb500b224535",
   "metadata": {},
   "outputs": [
    {
     "data": {
      "text/plain": [
       "'박진석'"
      ]
     },
     "execution_count": 10,
     "metadata": {},
     "output_type": "execute_result"
    }
   ],
   "source": [
    "name = \"이진석\"\n",
    "\n",
    "# 성만 지정해서 바꾸고 싶어요.\n",
    "name = \"박\" + name[1:]  # 1번 인덱스부터 끝까지.\n",
    "name"
   ]
  },
  {
   "cell_type": "markdown",
   "id": "2fbd4acd-0b6d-4b8d-ac1d-5b845f56a5a1",
   "metadata": {},
   "source": [
    "# index 그리고 key\n",
    "\n",
    "+ 문자열/리스트/튜플 : 개별 값을 `index`로 접근\n",
    "    - 문자열 : `\"hello\"`\n",
    "    - 리스트 : `[\"h\", \"e\", \"l\", \"l\", \"o\"]`\n",
    "    - 튜플 : `(\"h\", \"e\", \"l\", \"l\", \"o\")`\n",
    "    - 값으로만 구성되어있고, 순서가 있죠.\n",
    "+ 사전 : 개별 값을 `key`로 접근"
   ]
  },
  {
   "cell_type": "code",
   "execution_count": 12,
   "id": "728112dc-4ed7-440b-a399-174de325da04",
   "metadata": {},
   "outputs": [
    {
     "data": {
      "text/plain": [
       "{'국어': 90, '영어': 80, '수학': 70}"
      ]
     },
     "execution_count": 12,
     "metadata": {},
     "output_type": "execute_result"
    }
   ],
   "source": [
    "# 사전(dict)은 key/value 으로 구성됩니다.\n",
    "성적 = { \"국어\": 90, \"영어\": 80, \"수학\": 70 }\n",
    "성적 "
   ]
  },
  {
   "cell_type": "code",
   "execution_count": 15,
   "id": "cb96614d-b759-4deb-97e0-3ddad7c653d2",
   "metadata": {},
   "outputs": [
    {
     "name": "stdout",
     "output_type": "stream",
     "text": [
      "90\n"
     ]
    },
    {
     "data": {
      "text/plain": [
       "{'국어': 91, '영어': 80, '수학': 70}"
      ]
     },
     "execution_count": 15,
     "metadata": {},
     "output_type": "execute_result"
    }
   ],
   "source": [
    "print(성적[\"국어\"])\n",
    "# 성적[\"국어\"] = 성적[\"국어\"] + 1  # 국어 성적을 +1\n",
    "성적[\"국어\"] += 1  # 위 코드의 축약 문법\n",
    "성적"
   ]
  },
  {
   "cell_type": "code",
   "execution_count": 16,
   "id": "ac388dc7-b336-4be5-a0b3-b5f055f73a58",
   "metadata": {},
   "outputs": [
    {
     "ename": "KeyError",
     "evalue": "'과학'",
     "output_type": "error",
     "traceback": [
      "\u001b[31m---------------------------------------------------------------------------\u001b[39m",
      "\u001b[31mKeyError\u001b[39m                                  Traceback (most recent call last)",
      "\u001b[36mCell\u001b[39m\u001b[36m \u001b[39m\u001b[32mIn[16]\u001b[39m\u001b[32m, line 1\u001b[39m\n\u001b[32m----> \u001b[39m\u001b[32m1\u001b[39m \u001b[43m성적\u001b[49m\u001b[43m[\u001b[49m\u001b[33;43m\"\u001b[39;49m\u001b[33;43m과학\u001b[39;49m\u001b[33;43m\"\u001b[39;49m\u001b[43m]\u001b[49m  \u001b[38;5;66;03m# 없는 Key로 읽어올려고 하면 KeyError\u001b[39;00m\n",
      "\u001b[31mKeyError\u001b[39m: '과학'"
     ]
    }
   ],
   "source": [
    "성적[\"과학\"]  # 없는 Key로 읽어올려고 하면 KeyError"
   ]
  },
  {
   "cell_type": "code",
   "execution_count": 17,
   "id": "de407fe3-86fe-4175-abbc-f52cffd99ec5",
   "metadata": {},
   "outputs": [
    {
     "data": {
      "text/plain": [
       "{'국어': 91, '영어': 80, '수학': 70, '지리': 100}"
      ]
     },
     "execution_count": 17,
     "metadata": {},
     "output_type": "execute_result"
    }
   ],
   "source": [
    "성적[\"지리\"] = 100  # Key를 지정해서 저장하는 것은, 1) 해당 Key가 있으면 덮어쓰기, 2) 없으면 새롭게 생성\n",
    "성적"
   ]
  },
  {
   "cell_type": "code",
   "execution_count": 18,
   "id": "3b3b74ff-c341-4482-bceb-f82a1edaf391",
   "metadata": {},
   "outputs": [
    {
     "data": {
      "text/plain": [
       "4"
      ]
     },
     "execution_count": 18,
     "metadata": {},
     "output_type": "execute_result"
    }
   ],
   "source": [
    "len(성적)  # 총 개수 = 4"
   ]
  },
  {
   "cell_type": "code",
   "execution_count": null,
   "id": "6a355069-68b2-405d-a2d6-8302cb038c48",
   "metadata": {},
   "outputs": [],
   "source": []
  },
  {
   "cell_type": "code",
   "execution_count": null,
   "id": "63242f4c-31d3-492d-b463-4b769876ef15",
   "metadata": {},
   "outputs": [],
   "source": [
    "성적 = { 90, 80, 90, 100 } # 중괄호 + 값 만으로만 구성 => 집합 (set)\n",
    "print(type(성적))\n",
    "성적"
   ]
  },
  {
   "cell_type": "markdown",
   "id": "bb0a6fcd-31db-4de0-b67a-e1707c87fbaa",
   "metadata": {},
   "source": [
    "# Immutable 실습"
   ]
  },
  {
   "cell_type": "code",
   "execution_count": 19,
   "id": "05be3352-ed1b-4f75-99f8-e5fd6b514686",
   "metadata": {},
   "outputs": [
    {
     "ename": "TypeError",
     "evalue": "'str' object does not support item assignment",
     "output_type": "error",
     "traceback": [
      "\u001b[31m---------------------------------------------------------------------------\u001b[39m",
      "\u001b[31mTypeError\u001b[39m                                 Traceback (most recent call last)",
      "\u001b[36mCell\u001b[39m\u001b[36m \u001b[39m\u001b[32mIn[19]\u001b[39m\u001b[32m, line 2\u001b[39m\n\u001b[32m      1\u001b[39m name = \u001b[33m\"\u001b[39m\u001b[33m이진석\u001b[39m\u001b[33m\"\u001b[39m\n\u001b[32m----> \u001b[39m\u001b[32m2\u001b[39m \u001b[43mname\u001b[49m\u001b[43m[\u001b[49m\u001b[32;43m0\u001b[39;49m\u001b[43m]\u001b[49m = \u001b[33m\"\u001b[39m\u001b[33m박\u001b[39m\u001b[33m\"\u001b[39m\n",
      "\u001b[31mTypeError\u001b[39m: 'str' object does not support item assignment"
     ]
    }
   ],
   "source": [
    "name = \"이진석\"\n",
    "name[0] = \"박\""
   ]
  },
  {
   "cell_type": "code",
   "execution_count": 20,
   "id": "3d78e9b6-961b-430a-9b45-0bc57fc92deb",
   "metadata": {},
   "outputs": [
    {
     "data": {
      "text/plain": [
       "[110, 90, 80, 95]"
      ]
     },
     "execution_count": 20,
     "metadata": {},
     "output_type": "execute_result"
    }
   ],
   "source": [
    "scores = [100, 90, 80, 95]  # list는 Mutable해서 특정 항목의 값을 변경 가능\n",
    "scores[0] = 110\n",
    "scores"
   ]
  },
  {
   "cell_type": "code",
   "execution_count": 21,
   "id": "b305e7fb-0c06-4601-9f1a-5feb19c14a66",
   "metadata": {},
   "outputs": [
    {
     "ename": "TypeError",
     "evalue": "'tuple' object does not support item assignment",
     "output_type": "error",
     "traceback": [
      "\u001b[31m---------------------------------------------------------------------------\u001b[39m",
      "\u001b[31mTypeError\u001b[39m                                 Traceback (most recent call last)",
      "\u001b[36mCell\u001b[39m\u001b[36m \u001b[39m\u001b[32mIn[21]\u001b[39m\u001b[32m, line 3\u001b[39m\n\u001b[32m      1\u001b[39m \u001b[38;5;66;03m# tuple도 immutable합니다.\u001b[39;00m\n\u001b[32m      2\u001b[39m scores = (\u001b[32m100\u001b[39m, \u001b[32m90\u001b[39m, \u001b[32m80\u001b[39m, \u001b[32m95\u001b[39m)  \u001b[38;5;66;03m# tuple\u001b[39;00m\n\u001b[32m----> \u001b[39m\u001b[32m3\u001b[39m \u001b[43mscores\u001b[49m\u001b[43m[\u001b[49m\u001b[32;43m0\u001b[39;49m\u001b[43m]\u001b[49m = \u001b[32m110\u001b[39m\n\u001b[32m      4\u001b[39m scores\n",
      "\u001b[31mTypeError\u001b[39m: 'tuple' object does not support item assignment"
     ]
    }
   ],
   "source": [
    "# tuple도 immutable합니다.\n",
    "scores = (100, 90, 80, 95)  # tuple\n",
    "scores[0] = 110\n",
    "scores"
   ]
  },
  {
   "cell_type": "markdown",
   "id": "d554585d-e2bc-44b7-a5f3-bbd09edd98a3",
   "metadata": {},
   "source": [
    "Tip: 여러분들의 코드에서 `tuple`은 안 쓰셔도 되요. `list`만 정의하셔도 OK. `tuple`은 파이썬으로부터 값을 받을 때 `tuple` 타입이 있어요. 그때 `tuple` 특성에 맞게 값 변경이 그냥 읽어서 쓰시기만 하면 되요."
   ]
  },
  {
   "cell_type": "markdown",
   "id": "2a50a746-e7ff-4125-a325-15b0996e14d3",
   "metadata": {},
   "source": [
    "# 슬라이싱"
   ]
  },
  {
   "cell_type": "code",
   "execution_count": 24,
   "id": "bb7b7393-688e-47b2-8a31-aae5af3e13d9",
   "metadata": {},
   "outputs": [
    {
     "data": {
      "text/plain": [
       "'abcdefghijklmnopqrstuvwxyz'"
      ]
     },
     "execution_count": 24,
     "metadata": {},
     "output_type": "execute_result"
    }
   ],
   "source": [
    "import string\n",
    "\n",
    "알파벳 = string.ascii_lowercase\n",
    "알파벳"
   ]
  },
  {
   "cell_type": "code",
   "execution_count": 26,
   "id": "1b07bf7b-28b2-4b19-937b-020dd9b8cf04",
   "metadata": {},
   "outputs": [
    {
     "data": {
      "text/plain": [
       "'abc'"
      ]
     },
     "execution_count": 26,
     "metadata": {},
     "output_type": "execute_result"
    }
   ],
   "source": [
    "# 처음 3개\n",
    "알파벳[:3:]"
   ]
  },
  {
   "cell_type": "code",
   "execution_count": 27,
   "id": "c1c442b8-1f01-4d19-8a74-0cdf2f441cad",
   "metadata": {},
   "outputs": [
    {
     "data": {
      "text/plain": [
       "'abcdefghij'"
      ]
     },
     "execution_count": 27,
     "metadata": {},
     "output_type": "execute_result"
    }
   ],
   "source": [
    "# 처음 10개\n",
    "알파벳[ :10: ]  "
   ]
  },
  {
   "cell_type": "code",
   "execution_count": 29,
   "id": "97748b8e-26a3-42e7-b011-d7c86b50ef0a",
   "metadata": {},
   "outputs": [
    {
     "data": {
      "text/plain": [
       "'qrstuvwxyz'"
      ]
     },
     "execution_count": 29,
     "metadata": {},
     "output_type": "execute_result"
    }
   ],
   "source": [
    "# 마지막 10개\n",
    "알파벳[-10::]"
   ]
  },
  {
   "cell_type": "code",
   "execution_count": 30,
   "id": "e196733a-2fe8-4606-9f76-f48d2bc2f656",
   "metadata": {},
   "outputs": [
    {
     "data": {
      "text/plain": [
       "'cdef'"
      ]
     },
     "execution_count": 30,
     "metadata": {},
     "output_type": "execute_result"
    }
   ],
   "source": [
    "# 3번째 글자부터 4개\n",
    "알파벳[2:6:]"
   ]
  },
  {
   "cell_type": "code",
   "execution_count": 34,
   "id": "10a9f685-e528-4f77-9725-1068ab1707a4",
   "metadata": {},
   "outputs": [
    {
     "data": {
      "text/plain": [
       "'acegikmoqsuwy'"
      ]
     },
     "execution_count": 34,
     "metadata": {},
     "output_type": "execute_result"
    }
   ],
   "source": [
    "# 처음부터 (a) 마지막까지 1글자씩 건너뛰기\n",
    "알파벳[ : :2] "
   ]
  },
  {
   "cell_type": "code",
   "execution_count": 37,
   "id": "a4096bf1-5e41-4cb4-ad3d-d5e19fb2cee7",
   "metadata": {},
   "outputs": [
    {
     "data": {
      "text/plain": [
       "'zyxwvutsrqponmlkjihgfedcba'"
      ]
     },
     "execution_count": 37,
     "metadata": {},
     "output_type": "execute_result"
    }
   ],
   "source": [
    "# z 부터 a까지 거꾸로\n",
    "알파벳[ : :-1]  # 인덱스 증가량의 음수 여부에 따라, 시작 위치가 바뀝니다."
   ]
  },
  {
   "cell_type": "code",
   "execution_count": 39,
   "id": "b00c5e40-3a95-41c2-9df7-4a766b929a32",
   "metadata": {},
   "outputs": [
    {
     "data": {
      "text/plain": [
       "'zxvtrpnljhfd'"
      ]
     },
     "execution_count": 39,
     "metadata": {},
     "output_type": "execute_result"
    }
   ],
   "source": [
    "알파벳[:2:-2]"
   ]
  },
  {
   "cell_type": "markdown",
   "id": "39b34bd7-a750-49d9-a8f1-16309b2afde7",
   "metadata": {},
   "source": [
    "# 리스트"
   ]
  },
  {
   "cell_type": "code",
   "execution_count": 40,
   "id": "009d792e-37e6-40dc-bd47-f664785e4303",
   "metadata": {},
   "outputs": [
    {
     "data": {
      "text/plain": [
       "['a', 'b', 'c']"
      ]
     },
     "execution_count": 40,
     "metadata": {},
     "output_type": "execute_result"
    }
   ],
   "source": [
    "문자들 = [\"a\", \"b\", \"c\"]\n",
    "문자들"
   ]
  },
  {
   "cell_type": "code",
   "execution_count": 41,
   "id": "9aad2d53-d32f-422e-9c38-2c68d1467a49",
   "metadata": {},
   "outputs": [
    {
     "data": {
      "text/plain": [
       "['a', 'b', 'c', 'd']"
      ]
     },
     "execution_count": 41,
     "metadata": {},
     "output_type": "execute_result"
    }
   ],
   "source": [
    "문자들.append('d')  # 끝에 추가\n",
    "문자들"
   ]
  },
  {
   "cell_type": "code",
   "execution_count": 42,
   "id": "6963e9b7-f61b-4dd2-a970-497470faf199",
   "metadata": {},
   "outputs": [
    {
     "data": {
      "text/plain": [
       "['a', 'b', 'c', 'd', 'd']"
      ]
     },
     "execution_count": 42,
     "metadata": {},
     "output_type": "execute_result"
    }
   ],
   "source": [
    "문자들.append('d')  # 끝에 추가 (중복 체크 X) \n",
    "문자들"
   ]
  },
  {
   "cell_type": "code",
   "execution_count": 43,
   "id": "3bba8a2d-5d35-4116-8e04-ed257e191804",
   "metadata": {},
   "outputs": [
    {
     "data": {
      "text/plain": [
       "['e', 'a', 'b', 'c', 'd', 'd']"
      ]
     },
     "execution_count": 43,
     "metadata": {},
     "output_type": "execute_result"
    }
   ],
   "source": [
    "# 추가할 항목이 어떤 인덱스이기를 원하는가?\n",
    "문자들.insert(0, 'e')  # 'e' 값이 0 번 인덱스로 추가되길 원한다.\n",
    "문자들"
   ]
  },
  {
   "cell_type": "code",
   "execution_count": 44,
   "id": "d0f75bda-a8c1-4747-937e-db541ff52e20",
   "metadata": {},
   "outputs": [
    {
     "name": "stdout",
     "output_type": "stream",
     "text": [
      "d\n"
     ]
    },
    {
     "data": {
      "text/plain": [
       "['e', 'a', 'b', 'c', 'd']"
      ]
     },
     "execution_count": 44,
     "metadata": {},
     "output_type": "execute_result"
    }
   ],
   "source": [
    "print(문자들.pop())  # 가장 마지막 값을 제거하면서, 반환(return)합니다.\n",
    "문자들"
   ]
  },
  {
   "cell_type": "code",
   "execution_count": null,
   "id": "6ff6bb50-1642-4225-a59a-4dd5a5d3b892",
   "metadata": {},
   "outputs": [],
   "source": []
  }
 ],
 "metadata": {
  "kernelspec": {
   "display_name": "Python 3 (ipykernel)",
   "language": "python",
   "name": "python3"
  },
  "language_info": {
   "codemirror_mode": {
    "name": "ipython",
    "version": 3
   },
   "file_extension": ".py",
   "mimetype": "text/x-python",
   "name": "python",
   "nbconvert_exporter": "python",
   "pygments_lexer": "ipython3",
   "version": "3.13.2"
  }
 },
 "nbformat": 4,
 "nbformat_minor": 5
}
