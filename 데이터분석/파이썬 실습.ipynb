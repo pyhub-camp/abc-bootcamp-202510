{
 "cells": [
  {
   "cell_type": "markdown",
   "id": "0102e7fa-a603-4205-a90b-d972b99b9647",
   "metadata": {},
   "source": [
    "# 숫자 타입"
   ]
  },
  {
   "cell_type": "code",
   "execution_count": 2,
   "id": "52c6756d-ee01-4fed-b1e1-a221359dc7f0",
   "metadata": {},
   "outputs": [
    {
     "data": {
      "text/plain": [
       "4.0"
      ]
     },
     "execution_count": 2,
     "metadata": {},
     "output_type": "execute_result"
    }
   ],
   "source": [
    "# 파이썬 최신에서는 나누기의 결과는 항상 실수(float)\n",
    "#  - 다른 언어, 예전 파이썬에서는 정수/정수 => 정수 였어요.\n",
    "20 / 5"
   ]
  },
  {
   "cell_type": "code",
   "execution_count": 3,
   "id": "8dc96729-276c-49da-a866-f874561bb9cf",
   "metadata": {},
   "outputs": [
    {
     "data": {
      "text/plain": [
       "4.2"
      ]
     },
     "execution_count": 3,
     "metadata": {},
     "output_type": "execute_result"
    }
   ],
   "source": [
    "21 / 5"
   ]
  },
  {
   "cell_type": "code",
   "execution_count": 4,
   "id": "0bfd2be2-1859-4c7b-b888-9c633d5e3b31",
   "metadata": {},
   "outputs": [
    {
     "data": {
      "text/plain": [
       "4"
      ]
     },
     "execution_count": 4,
     "metadata": {},
     "output_type": "execute_result"
    }
   ],
   "source": [
    "21 // 5  # 몫"
   ]
  },
  {
   "cell_type": "code",
   "execution_count": 5,
   "id": "22a9806d-a3d2-439e-8712-4708203310f8",
   "metadata": {},
   "outputs": [
    {
     "data": {
      "text/plain": [
       "1"
      ]
     },
     "execution_count": 5,
     "metadata": {},
     "output_type": "execute_result"
    }
   ],
   "source": [
    "21 % 5  # 나머지"
   ]
  },
  {
   "cell_type": "code",
   "execution_count": 6,
   "id": "fa5220bf-50fa-4f8f-982a-766e861d7236",
   "metadata": {},
   "outputs": [
    {
     "data": {
      "text/plain": [
       "(4, 1)"
      ]
     },
     "execution_count": 6,
     "metadata": {},
     "output_type": "execute_result"
    }
   ],
   "source": [
    "divmod(21, 5)  # 몫과 나머지를 한 번에 계산"
   ]
  },
  {
   "cell_type": "code",
   "execution_count": 7,
   "id": "84e04635-2b39-4096-9bc6-9919885656f9",
   "metadata": {},
   "outputs": [],
   "source": [
    "몫, 나머지 = divmod(21, 5)"
   ]
  },
  {
   "cell_type": "markdown",
   "id": "9b32ba6d-1290-4c06-b92a-22cdeab63438",
   "metadata": {},
   "source": [
    "# 문자열 타입"
   ]
  },
  {
   "cell_type": "code",
   "execution_count": 8,
   "id": "6271a283-29d4-45fc-9c15-2cb7d2d844ec",
   "metadata": {},
   "outputs": [
    {
     "data": {
      "text/plain": [
       "'helloworld'"
      ]
     },
     "execution_count": 8,
     "metadata": {},
     "output_type": "execute_result"
    }
   ],
   "source": [
    "\"hello\" + \"world\""
   ]
  },
  {
   "cell_type": "code",
   "execution_count": 9,
   "id": "ea7b55af-3b71-4b49-a2ac-6e95770698de",
   "metadata": {},
   "outputs": [
    {
     "ename": "TypeError",
     "evalue": "can only concatenate str (not \"int\") to str",
     "output_type": "error",
     "traceback": [
      "\u001b[31m---------------------------------------------------------------------------\u001b[39m",
      "\u001b[31mTypeError\u001b[39m                                 Traceback (most recent call last)",
      "\u001b[36mCell\u001b[39m\u001b[36m \u001b[39m\u001b[32mIn[9]\u001b[39m\u001b[32m, line 1\u001b[39m\n\u001b[32m----> \u001b[39m\u001b[32m1\u001b[39m \u001b[33;43m\"\u001b[39;49m\u001b[33;43mhello\u001b[39;49m\u001b[33;43m\"\u001b[39;49m\u001b[43m \u001b[49m\u001b[43m+\u001b[49m\u001b[43m \u001b[49m\u001b[32;43m10\u001b[39;49m\n",
      "\u001b[31mTypeError\u001b[39m: can only concatenate str (not \"int\") to str"
     ]
    }
   ],
   "source": [
    "\"hello\" + 10"
   ]
  },
  {
   "cell_type": "code",
   "execution_count": 10,
   "id": "8dc62a2a-b0b4-4c74-9ff2-5b11f815345a",
   "metadata": {},
   "outputs": [
    {
     "data": {
      "text/plain": [
       "'hellohellohellohellohellohellohellohellohellohello'"
      ]
     },
     "execution_count": 10,
     "metadata": {},
     "output_type": "execute_result"
    }
   ],
   "source": [
    "\"hello\" * 10"
   ]
  },
  {
   "cell_type": "code",
   "execution_count": 11,
   "id": "a93ef507-ddcb-450b-b085-5d7340d9b270",
   "metadata": {},
   "outputs": [
    {
     "data": {
      "text/plain": [
       "True"
      ]
     },
     "execution_count": 11,
     "metadata": {},
     "output_type": "execute_result"
    }
   ],
   "source": [
    "\"가\" < \"나\""
   ]
  },
  {
   "cell_type": "code",
   "execution_count": 12,
   "id": "c40a9d9d-c739-45b6-8dce-8c38adecf698",
   "metadata": {},
   "outputs": [
    {
     "data": {
      "text/plain": [
       "44032"
      ]
     },
     "execution_count": 12,
     "metadata": {},
     "output_type": "execute_result"
    }
   ],
   "source": [
    "ord(\"가\")"
   ]
  },
  {
   "cell_type": "code",
   "execution_count": 13,
   "id": "a2025e3a-504b-4b5d-9b55-fdd524ba323f",
   "metadata": {},
   "outputs": [
    {
     "data": {
      "text/plain": [
       "45208"
      ]
     },
     "execution_count": 13,
     "metadata": {},
     "output_type": "execute_result"
    }
   ],
   "source": [
    "ord(\"나\")"
   ]
  },
  {
   "cell_type": "markdown",
   "id": "1d728f78-6cd3-4535-bf4d-743348d3772a",
   "metadata": {},
   "source": [
    "# 파이썬은 대개 같은 타입에 대해서 `+` 연산자를 지원"
   ]
  },
  {
   "cell_type": "code",
   "execution_count": 14,
   "id": "d4a9c008-20a4-4f7d-8679-cbc812436681",
   "metadata": {},
   "outputs": [
    {
     "data": {
      "text/plain": [
       "3"
      ]
     },
     "execution_count": 14,
     "metadata": {},
     "output_type": "execute_result"
    }
   ],
   "source": [
    "1 + 2"
   ]
  },
  {
   "cell_type": "code",
   "execution_count": 15,
   "id": "faad31cd-eaac-4ac6-ae41-602cefb556ab",
   "metadata": {},
   "outputs": [
    {
     "ename": "TypeError",
     "evalue": "unsupported operand type(s) for +: 'int' and 'str'",
     "output_type": "error",
     "traceback": [
      "\u001b[31m---------------------------------------------------------------------------\u001b[39m",
      "\u001b[31mTypeError\u001b[39m                                 Traceback (most recent call last)",
      "\u001b[36mCell\u001b[39m\u001b[36m \u001b[39m\u001b[32mIn[15]\u001b[39m\u001b[32m, line 1\u001b[39m\n\u001b[32m----> \u001b[39m\u001b[32m1\u001b[39m \u001b[32;43m1\u001b[39;49m\u001b[43m \u001b[49m\u001b[43m+\u001b[49m\u001b[43m \u001b[49m\u001b[33;43m'\u001b[39;49m\u001b[33;43m2\u001b[39;49m\u001b[33;43m'\u001b[39;49m\n",
      "\u001b[31mTypeError\u001b[39m: unsupported operand type(s) for +: 'int' and 'str'"
     ]
    }
   ],
   "source": [
    "1 + '2'"
   ]
  },
  {
   "cell_type": "code",
   "execution_count": 16,
   "id": "fdfecee2-7853-4207-abc6-350114b8ec4d",
   "metadata": {},
   "outputs": [
    {
     "data": {
      "text/plain": [
       "'12'"
      ]
     },
     "execution_count": 16,
     "metadata": {},
     "output_type": "execute_result"
    }
   ],
   "source": [
    "'1' + '2'"
   ]
  },
  {
   "cell_type": "code",
   "execution_count": 17,
   "id": "fd44c2eb-cc67-4eb5-aa80-080e873fe4e7",
   "metadata": {},
   "outputs": [
    {
     "name": "stdout",
     "output_type": "stream",
     "text": [
      "3\n",
      "12\n"
     ]
    }
   ],
   "source": [
    "a = 1\n",
    "b = '2' \n",
    "\n",
    "# 숫자로서 더하길 원한다.\n",
    "print(a + int(b))  # b 문자열을 정수로 변환한 뒤, 더하기\n",
    "\n",
    "# 문자열로서 더하길 원한다.\n",
    "print(str(a) + b)  # a 값을 문자열로 변환한 뒤, 더하기"
   ]
  },
  {
   "cell_type": "markdown",
   "id": "57981b02-8811-4b28-9605-b119cfe2709f",
   "metadata": {},
   "source": [
    "## 쌍따옴표 3개 문자열 문법"
   ]
  },
  {
   "cell_type": "code",
   "execution_count": 18,
   "id": "e0007dbb-f58b-48f8-b4c7-6aa98c74eefb",
   "metadata": {},
   "outputs": [],
   "source": [
    "가사 = \"\"\"첫번째 줄\n",
    "두번째 줄\n",
    "세번재 줄\"\"\""
   ]
  },
  {
   "cell_type": "code",
   "execution_count": 21,
   "id": "ad5c44fc-c62d-4440-bfef-f76cc02d85ee",
   "metadata": {},
   "outputs": [
    {
     "data": {
      "text/plain": [
       "'hello'"
      ]
     },
     "execution_count": 21,
     "metadata": {},
     "output_type": "execute_result"
    }
   ],
   "source": [
    "# 문자열 정의 4가지 문법 중에 어떤 문법을 쓰나, 생성되는 문자열 데이터는 동일하다.\n",
    "\"hello\""
   ]
  },
  {
   "cell_type": "code",
   "execution_count": 22,
   "id": "aa613ddc-abd0-42db-a633-abe8cf7864e1",
   "metadata": {},
   "outputs": [
    {
     "data": {
      "text/plain": [
       "'hello'"
      ]
     },
     "execution_count": 22,
     "metadata": {},
     "output_type": "execute_result"
    }
   ],
   "source": [
    "'hello'"
   ]
  },
  {
   "cell_type": "code",
   "execution_count": 23,
   "id": "cd6fa838-dc4b-4a1c-a2f3-13a1f6249e37",
   "metadata": {},
   "outputs": [
    {
     "data": {
      "text/plain": [
       "\"This is Chinseok's Book\""
      ]
     },
     "execution_count": 23,
     "metadata": {},
     "output_type": "execute_result"
    }
   ],
   "source": [
    "message = \"This is Chinseok's Book\"\n",
    "message"
   ]
  },
  {
   "cell_type": "code",
   "execution_count": 25,
   "id": "791d8abe-b3bd-4c73-ba36-4e8718294afe",
   "metadata": {},
   "outputs": [],
   "source": [
    "# \\ : Escape 문자\n",
    "# 가운데 역슬래시를 붙인 홑따옴표는 literal로서의 역할은 하지 말고\n",
    "# 그냥 문자열로서 활동하라.\n",
    "message = 'This is Chinseok\\'s Book'"
   ]
  },
  {
   "cell_type": "code",
   "execution_count": 27,
   "id": "83b30d1b-8214-4804-b66f-00fc9e817bb4",
   "metadata": {},
   "outputs": [],
   "source": [
    "message = \"철수가 말했다. \\\"밥 먹으러 가자.\\\"\" "
   ]
  },
  {
   "cell_type": "code",
   "execution_count": 28,
   "id": "b4b57385-e1ea-494d-8a31-f11974d04c55",
   "metadata": {},
   "outputs": [],
   "source": [
    "message = '철수가 말했다. \"밥 먹으러 가자.\"'"
   ]
  },
  {
   "cell_type": "markdown",
   "id": "0c775847-cbf7-4188-80cc-9d80f73321dd",
   "metadata": {},
   "source": [
    "# 변수를 통한 문자열 메시지 완성하기"
   ]
  },
  {
   "cell_type": "code",
   "execution_count": 29,
   "id": "8703046a-5f8c-40f8-aa06-60bbd056c2a1",
   "metadata": {},
   "outputs": [
    {
     "name": "stdout",
     "output_type": "stream",
     "text": [
      "안녕하세요. 이진석님. 저희 대동마트에 오신 것을 환영합니다.\n"
     ]
    }
   ],
   "source": [
    "# 스타일 1\n",
    "message = \"안녕하세요. 이진석님. 저희 대동마트에 오신 것을 환영합니다.\"\n",
    "print(message)"
   ]
  },
  {
   "cell_type": "code",
   "execution_count": 31,
   "id": "2122e2ed-5954-41b1-a7d9-9d86f1e1e85a",
   "metadata": {},
   "outputs": [
    {
     "name": "stdout",
     "output_type": "stream",
     "text": [
      "안녕하세요. 이진석님. 저희 대동마트에 오신 것을 환영합니다.\n"
     ]
    }
   ],
   "source": [
    "# 스타일 2\n",
    "name = \"이진석\"\n",
    "mart = \"대동마트\"\n",
    "# place holder : 값이 문자열 타입으로 삽입될 공간을 중괄호로 지정\n",
    "template = \"안녕하세요. {}님. 저희 {}에 오신 것을 환영합니다.\"\n",
    "message = template.format(name, mart)\n",
    "print(message)"
   ]
  },
  {
   "cell_type": "code",
   "execution_count": 33,
   "id": "3f688cfd-c0d5-4227-827e-9a7016170960",
   "metadata": {},
   "outputs": [
    {
     "name": "stdout",
     "output_type": "stream",
     "text": [
      "안녕하세요. 이진석님. 저희 대동마트에 오신 것을 환영합니다.\n"
     ]
    }
   ],
   "source": [
    "# place holder 이름을 지정합니다.\n",
    "template = \"안녕하세요. {이름}님. 저희 {마트이름}에 오신 것을 환영합니다.\"\n",
    "message = template.format(이름=name, 마트이름=mart)\n",
    "print(message)"
   ]
  },
  {
   "cell_type": "code",
   "execution_count": 34,
   "id": "cc89a3c9-5c43-4fee-b1ed-76bc6f2e11f7",
   "metadata": {},
   "outputs": [
    {
     "name": "stdout",
     "output_type": "stream",
     "text": [
      "안녕하세요. 이진석님. 저희 대동마트에 오신 것을 환영합니다.\n"
     ]
    }
   ],
   "source": [
    "# 값이 개별 변수에 저장되어있지만, 대개는 하나의 사전(dict) 변수에 저장되어 활용되는 경우가 많습니다.\n",
    "context = { \"이름\": \"이진석\", \"마트이름\": \"대동마트\" }\n",
    "\n",
    "template = \"안녕하세요. {이름}님. 저희 {마트이름}에 오신 것을 환영합니다.\"\n",
    "# unpack 문법 : 하나의 변수에 담긴 값들을 풀어서, 여러 개의 인자인 것처럼 넘겨줍니다.\n",
    "message = template.format(**context)\n",
    "print(message)"
   ]
  },
  {
   "cell_type": "code",
   "execution_count": null,
   "id": "84ea5abb-2174-4691-b5aa-2b6ad0befd87",
   "metadata": {},
   "outputs": [],
   "source": []
  },
  {
   "cell_type": "code",
   "execution_count": null,
   "id": "e3b0fac8-d06a-4fae-b1a3-7179cfd7a20f",
   "metadata": {},
   "outputs": [],
   "source": []
  },
  {
   "cell_type": "code",
   "execution_count": null,
   "id": "aae5440a-ac4a-4026-ab34-65c5db2465eb",
   "metadata": {},
   "outputs": [],
   "source": []
  }
 ],
 "metadata": {
  "kernelspec": {
   "display_name": "Python 3 (ipykernel)",
   "language": "python",
   "name": "python3"
  },
  "language_info": {
   "codemirror_mode": {
    "name": "ipython",
    "version": 3
   },
   "file_extension": ".py",
   "mimetype": "text/x-python",
   "name": "python",
   "nbconvert_exporter": "python",
   "pygments_lexer": "ipython3",
   "version": "3.13.2"
  }
 },
 "nbformat": 4,
 "nbformat_minor": 5
}
