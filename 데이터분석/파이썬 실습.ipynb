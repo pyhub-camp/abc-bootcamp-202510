{
 "cells": [
  {
   "cell_type": "markdown",
   "id": "0102e7fa-a603-4205-a90b-d972b99b9647",
   "metadata": {},
   "source": [
    "# 숫자 타입"
   ]
  },
  {
   "cell_type": "code",
   "execution_count": 3,
   "id": "52c6756d-ee01-4fed-b1e1-a221359dc7f0",
   "metadata": {},
   "outputs": [
    {
     "data": {
      "text/plain": [
       "4.0"
      ]
     },
     "execution_count": 3,
     "metadata": {},
     "output_type": "execute_result"
    }
   ],
   "source": [
    "# 파이썬 최신에서는 나누기의 결과는 항상 실수(float)\n",
    "#  - 다른 언어, 예전 파이썬에서는 정수/정수 => 정수 였어요.\n",
    "20 / 5"
   ]
  },
  {
   "cell_type": "code",
   "execution_count": 4,
   "id": "8dc96729-276c-49da-a866-f874561bb9cf",
   "metadata": {},
   "outputs": [
    {
     "data": {
      "text/plain": [
       "4.2"
      ]
     },
     "execution_count": 4,
     "metadata": {},
     "output_type": "execute_result"
    }
   ],
   "source": [
    "21 / 5"
   ]
  },
  {
   "cell_type": "code",
   "execution_count": 5,
   "id": "0bfd2be2-1859-4c7b-b888-9c633d5e3b31",
   "metadata": {},
   "outputs": [
    {
     "data": {
      "text/plain": [
       "4"
      ]
     },
     "execution_count": 5,
     "metadata": {},
     "output_type": "execute_result"
    }
   ],
   "source": [
    "21 // 5  # 몫"
   ]
  },
  {
   "cell_type": "code",
   "execution_count": 6,
   "id": "22a9806d-a3d2-439e-8712-4708203310f8",
   "metadata": {},
   "outputs": [
    {
     "data": {
      "text/plain": [
       "1"
      ]
     },
     "execution_count": 6,
     "metadata": {},
     "output_type": "execute_result"
    }
   ],
   "source": [
    "21 % 5  # 나머지"
   ]
  },
  {
   "cell_type": "code",
   "execution_count": 7,
   "id": "fa5220bf-50fa-4f8f-982a-766e861d7236",
   "metadata": {},
   "outputs": [
    {
     "data": {
      "text/plain": [
       "(4, 1)"
      ]
     },
     "execution_count": 7,
     "metadata": {},
     "output_type": "execute_result"
    }
   ],
   "source": [
    "divmod(21, 5)  # 몫과 나머지를 한 번에 계산"
   ]
  },
  {
   "cell_type": "code",
   "execution_count": 8,
   "id": "84e04635-2b39-4096-9bc6-9919885656f9",
   "metadata": {},
   "outputs": [],
   "source": [
    "몫, 나머지 = divmod(21, 5)"
   ]
  },
  {
   "cell_type": "markdown",
   "id": "9b32ba6d-1290-4c06-b92a-22cdeab63438",
   "metadata": {},
   "source": [
    "# 문자열 타입"
   ]
  },
  {
   "cell_type": "code",
   "execution_count": 9,
   "id": "6271a283-29d4-45fc-9c15-2cb7d2d844ec",
   "metadata": {},
   "outputs": [
    {
     "data": {
      "text/plain": [
       "'helloworld'"
      ]
     },
     "execution_count": 9,
     "metadata": {},
     "output_type": "execute_result"
    }
   ],
   "source": [
    "\"hello\" + \"world\""
   ]
  },
  {
   "cell_type": "code",
   "execution_count": 10,
   "id": "ea7b55af-3b71-4b49-a2ac-6e95770698de",
   "metadata": {},
   "outputs": [
    {
     "ename": "TypeError",
     "evalue": "can only concatenate str (not \"int\") to str",
     "output_type": "error",
     "traceback": [
      "\u001b[31m---------------------------------------------------------------------------\u001b[39m",
      "\u001b[31mTypeError\u001b[39m                                 Traceback (most recent call last)",
      "\u001b[36mCell\u001b[39m\u001b[36m \u001b[39m\u001b[32mIn[10]\u001b[39m\u001b[32m, line 1\u001b[39m\n\u001b[32m----> \u001b[39m\u001b[32m1\u001b[39m \u001b[33;43m\"\u001b[39;49m\u001b[33;43mhello\u001b[39;49m\u001b[33;43m\"\u001b[39;49m\u001b[43m \u001b[49m\u001b[43m+\u001b[49m\u001b[43m \u001b[49m\u001b[32;43m10\u001b[39;49m\n",
      "\u001b[31mTypeError\u001b[39m: can only concatenate str (not \"int\") to str"
     ]
    }
   ],
   "source": [
    "\"hello\" + 10"
   ]
  },
  {
   "cell_type": "code",
   "execution_count": 11,
   "id": "8dc62a2a-b0b4-4c74-9ff2-5b11f815345a",
   "metadata": {},
   "outputs": [
    {
     "data": {
      "text/plain": [
       "'hellohellohellohellohellohellohellohellohellohello'"
      ]
     },
     "execution_count": 11,
     "metadata": {},
     "output_type": "execute_result"
    }
   ],
   "source": [
    "\"hello\" * 10"
   ]
  },
  {
   "cell_type": "code",
   "execution_count": 12,
   "id": "a93ef507-ddcb-450b-b085-5d7340d9b270",
   "metadata": {},
   "outputs": [
    {
     "data": {
      "text/plain": [
       "True"
      ]
     },
     "execution_count": 12,
     "metadata": {},
     "output_type": "execute_result"
    }
   ],
   "source": [
    "\"가\" < \"나\""
   ]
  },
  {
   "cell_type": "code",
   "execution_count": 13,
   "id": "c40a9d9d-c739-45b6-8dce-8c38adecf698",
   "metadata": {},
   "outputs": [
    {
     "data": {
      "text/plain": [
       "44032"
      ]
     },
     "execution_count": 13,
     "metadata": {},
     "output_type": "execute_result"
    }
   ],
   "source": [
    "ord(\"가\")"
   ]
  },
  {
   "cell_type": "code",
   "execution_count": 14,
   "id": "a2025e3a-504b-4b5d-9b55-fdd524ba323f",
   "metadata": {},
   "outputs": [
    {
     "data": {
      "text/plain": [
       "45208"
      ]
     },
     "execution_count": 14,
     "metadata": {},
     "output_type": "execute_result"
    }
   ],
   "source": [
    "ord(\"나\")"
   ]
  },
  {
   "cell_type": "markdown",
   "id": "1d728f78-6cd3-4535-bf4d-743348d3772a",
   "metadata": {},
   "source": [
    "# 파이썬은 대개 같은 타입에 대해서 `+` 연산자를 지원"
   ]
  },
  {
   "cell_type": "code",
   "execution_count": 15,
   "id": "d4a9c008-20a4-4f7d-8679-cbc812436681",
   "metadata": {},
   "outputs": [
    {
     "data": {
      "text/plain": [
       "3"
      ]
     },
     "execution_count": 15,
     "metadata": {},
     "output_type": "execute_result"
    }
   ],
   "source": [
    "1 + 2"
   ]
  },
  {
   "cell_type": "code",
   "execution_count": 16,
   "id": "faad31cd-eaac-4ac6-ae41-602cefb556ab",
   "metadata": {},
   "outputs": [
    {
     "ename": "TypeError",
     "evalue": "unsupported operand type(s) for +: 'int' and 'str'",
     "output_type": "error",
     "traceback": [
      "\u001b[31m---------------------------------------------------------------------------\u001b[39m",
      "\u001b[31mTypeError\u001b[39m                                 Traceback (most recent call last)",
      "\u001b[36mCell\u001b[39m\u001b[36m \u001b[39m\u001b[32mIn[16]\u001b[39m\u001b[32m, line 1\u001b[39m\n\u001b[32m----> \u001b[39m\u001b[32m1\u001b[39m \u001b[32;43m1\u001b[39;49m\u001b[43m \u001b[49m\u001b[43m+\u001b[49m\u001b[43m \u001b[49m\u001b[33;43m'\u001b[39;49m\u001b[33;43m2\u001b[39;49m\u001b[33;43m'\u001b[39;49m\n",
      "\u001b[31mTypeError\u001b[39m: unsupported operand type(s) for +: 'int' and 'str'"
     ]
    }
   ],
   "source": [
    "1 + '2'"
   ]
  },
  {
   "cell_type": "code",
   "execution_count": 17,
   "id": "fdfecee2-7853-4207-abc6-350114b8ec4d",
   "metadata": {},
   "outputs": [
    {
     "data": {
      "text/plain": [
       "'12'"
      ]
     },
     "execution_count": 17,
     "metadata": {},
     "output_type": "execute_result"
    }
   ],
   "source": [
    "'1' + '2'"
   ]
  },
  {
   "cell_type": "code",
   "execution_count": 18,
   "id": "fd44c2eb-cc67-4eb5-aa80-080e873fe4e7",
   "metadata": {},
   "outputs": [
    {
     "name": "stdout",
     "output_type": "stream",
     "text": [
      "3\n",
      "12\n"
     ]
    }
   ],
   "source": [
    "a = 1\n",
    "b = '2' \n",
    "\n",
    "# 숫자로서 더하길 원한다.\n",
    "print(a + int(b))  # b 문자열을 정수로 변환한 뒤, 더하기\n",
    "\n",
    "# 문자열로서 더하길 원한다.\n",
    "print(str(a) + b)  # a 값을 문자열로 변환한 뒤, 더하기"
   ]
  },
  {
   "cell_type": "markdown",
   "id": "57981b02-8811-4b28-9605-b119cfe2709f",
   "metadata": {},
   "source": [
    "## 쌍따옴표 3개 문자열 문법"
   ]
  },
  {
   "cell_type": "code",
   "execution_count": 19,
   "id": "e0007dbb-f58b-48f8-b4c7-6aa98c74eefb",
   "metadata": {},
   "outputs": [],
   "source": [
    "가사 = \"\"\"첫번째 줄\n",
    "두번째 줄\n",
    "세번재 줄\"\"\""
   ]
  },
  {
   "cell_type": "code",
   "execution_count": 20,
   "id": "ad5c44fc-c62d-4440-bfef-f76cc02d85ee",
   "metadata": {},
   "outputs": [
    {
     "data": {
      "text/plain": [
       "'hello'"
      ]
     },
     "execution_count": 20,
     "metadata": {},
     "output_type": "execute_result"
    }
   ],
   "source": [
    "# 문자열 정의 4가지 문법 중에 어떤 문법을 쓰나, 생성되는 문자열 데이터는 동일하다.\n",
    "\"hello\""
   ]
  },
  {
   "cell_type": "code",
   "execution_count": 21,
   "id": "aa613ddc-abd0-42db-a633-abe8cf7864e1",
   "metadata": {},
   "outputs": [
    {
     "data": {
      "text/plain": [
       "'hello'"
      ]
     },
     "execution_count": 21,
     "metadata": {},
     "output_type": "execute_result"
    }
   ],
   "source": [
    "'hello'"
   ]
  },
  {
   "cell_type": "code",
   "execution_count": 22,
   "id": "cd6fa838-dc4b-4a1c-a2f3-13a1f6249e37",
   "metadata": {},
   "outputs": [
    {
     "data": {
      "text/plain": [
       "\"This is Chinseok's Book\""
      ]
     },
     "execution_count": 22,
     "metadata": {},
     "output_type": "execute_result"
    }
   ],
   "source": [
    "message = \"This is Chinseok's Book\"\n",
    "message"
   ]
  },
  {
   "cell_type": "code",
   "execution_count": 23,
   "id": "791d8abe-b3bd-4c73-ba36-4e8718294afe",
   "metadata": {},
   "outputs": [],
   "source": [
    "# \\ : Escape 문자\n",
    "# 가운데 역슬래시를 붙인 홑따옴표는 literal로서의 역할은 하지 말고\n",
    "# 그냥 문자열로서 활동하라.\n",
    "message = 'This is Chinseok\\'s Book'"
   ]
  },
  {
   "cell_type": "code",
   "execution_count": 24,
   "id": "83b30d1b-8214-4804-b66f-00fc9e817bb4",
   "metadata": {},
   "outputs": [],
   "source": [
    "message = \"철수가 말했다. \\\"밥 먹으러 가자.\\\"\" "
   ]
  },
  {
   "cell_type": "code",
   "execution_count": 25,
   "id": "b4b57385-e1ea-494d-8a31-f11974d04c55",
   "metadata": {},
   "outputs": [],
   "source": [
    "message = '철수가 말했다. \"밥 먹으러 가자.\"'"
   ]
  },
  {
   "cell_type": "markdown",
   "id": "0c775847-cbf7-4188-80cc-9d80f73321dd",
   "metadata": {},
   "source": [
    "# 변수를 통한 문자열 메시지 완성하기"
   ]
  },
  {
   "cell_type": "code",
   "execution_count": 26,
   "id": "8703046a-5f8c-40f8-aa06-60bbd056c2a1",
   "metadata": {},
   "outputs": [
    {
     "name": "stdout",
     "output_type": "stream",
     "text": [
      "안녕하세요. 이진석님. 저희 대동마트에 오신 것을 환영합니다.\n"
     ]
    }
   ],
   "source": [
    "# 스타일 1\n",
    "message = \"안녕하세요. 이진석님. 저희 대동마트에 오신 것을 환영합니다.\"\n",
    "print(message)"
   ]
  },
  {
   "cell_type": "code",
   "execution_count": 27,
   "id": "2122e2ed-5954-41b1-a7d9-9d86f1e1e85a",
   "metadata": {},
   "outputs": [
    {
     "name": "stdout",
     "output_type": "stream",
     "text": [
      "안녕하세요. 이진석님. 저희 대동마트에 오신 것을 환영합니다.\n"
     ]
    }
   ],
   "source": [
    "# 스타일 2\n",
    "name = \"이진석\"\n",
    "mart = \"대동마트\"\n",
    "# place holder : 값이 문자열 타입으로 삽입될 공간을 중괄호로 지정\n",
    "template = \"안녕하세요. {}님. 저희 {}에 오신 것을 환영합니다.\"\n",
    "message = template.format(name, mart)\n",
    "print(message)"
   ]
  },
  {
   "cell_type": "code",
   "execution_count": 28,
   "id": "3f688cfd-c0d5-4227-827e-9a7016170960",
   "metadata": {},
   "outputs": [
    {
     "name": "stdout",
     "output_type": "stream",
     "text": [
      "안녕하세요. 이진석님. 저희 대동마트에 오신 것을 환영합니다.\n"
     ]
    }
   ],
   "source": [
    "# place holder 이름을 지정합니다.\n",
    "template = \"안녕하세요. {이름}님. 저희 {마트이름}에 오신 것을 환영합니다.\"\n",
    "message = template.format(이름=name, 마트이름=mart)\n",
    "print(message)"
   ]
  },
  {
   "cell_type": "code",
   "execution_count": 29,
   "id": "cc89a3c9-5c43-4fee-b1ed-76bc6f2e11f7",
   "metadata": {},
   "outputs": [
    {
     "name": "stdout",
     "output_type": "stream",
     "text": [
      "안녕하세요. 이진석님. 저희 대동마트에 오신 것을 환영합니다.\n"
     ]
    }
   ],
   "source": [
    "# 값이 개별 변수에 저장되어있지만, 대개는 하나의 사전(dict) 변수에 저장되어 활용되는 경우가 많습니다.\n",
    "context = { \"이름\": \"이진석\", \"마트이름\": \"대동마트\" }\n",
    "\n",
    "template = \"안녕하세요. {이름}님. 저희 {마트이름}에 오신 것을 환영합니다.\"\n",
    "# unpack 문법 : 하나의 변수에 담긴 값들을 풀어서, 여러 개의 인자인 것처럼 넘겨줍니다.\n",
    "message = template.format(**context)\n",
    "print(message)"
   ]
  },
  {
   "cell_type": "markdown",
   "id": "b8df27c5-2623-4e24-8111-f66283c27111",
   "metadata": {},
   "source": [
    "# bool 타입\n",
    "\n",
    "참/거짓을 판정"
   ]
  },
  {
   "cell_type": "code",
   "execution_count": 30,
   "id": "e3b0fac8-d06a-4fae-b1a3-7179cfd7a20f",
   "metadata": {},
   "outputs": [
    {
     "name": "stdout",
     "output_type": "stream",
     "text": [
      "위 표현식이 참 판정을 받을 때 수행되는 code block\n"
     ]
    }
   ],
   "source": [
    "# 모든 if 조건절에서는 if/else 를 꼭 쌍으로 써주시길 권장드립니다.\n",
    "# 그래야만 표현식이 예기치못한 False 판정 시에도 이를 인지할 수 있어요.\n",
    "\n",
    "# 표현식 = True  # 값\n",
    "# 표현식 = \"\"  # 빈 문자열은 거짓 판정\n",
    "# 표현식 = \" \"  # 빈 문자열이 아닌 문자열은 모두 참 판정\n",
    "# 표현식 = 1 < 2\n",
    "# 표현식 = 100 < 99   # 거짓\n",
    "# 표현식 = \"100\" < \"99\" # 3글자 => 3개의 문자코드가 이어진 상황.\n",
    "표현식 = [\"1\", \"0\", \"0\"] < [\"9\", \"9\"]\n",
    "\n",
    "if 표현식:  # Expression\n",
    "    print(\"위 표현식이 참 판정을 받을 때 수행되는 code block\")\n",
    "else:\n",
    "    print(\"위 표현식이 거짓 판정을 받을 때 수행되는 code block\")"
   ]
  },
  {
   "cell_type": "markdown",
   "id": "962f9b43-5d57-4c1e-b564-de8c1c36e4f9",
   "metadata": {},
   "source": [
    "# 논리연산자 and/or"
   ]
  },
  {
   "cell_type": "code",
   "execution_count": 31,
   "id": "5ab8af3f-177c-4749-88bd-b300b1aedd2e",
   "metadata": {},
   "outputs": [
    {
     "data": {
      "text/plain": [
       "2"
      ]
     },
     "execution_count": 31,
     "metadata": {},
     "output_type": "execute_result"
    }
   ],
   "source": [
    "A = 1\n",
    "B = 2\n",
    "A and B  # 2"
   ]
  },
  {
   "cell_type": "code",
   "execution_count": 32,
   "id": "0b54866e-6e92-4c0c-bf16-368c9e377ee7",
   "metadata": {},
   "outputs": [
    {
     "data": {
      "text/plain": [
       "0"
      ]
     },
     "execution_count": 32,
     "metadata": {},
     "output_type": "execute_result"
    }
   ],
   "source": [
    "A = 0\n",
    "B = 2\n",
    "A and B  # 0"
   ]
  },
  {
   "cell_type": "code",
   "execution_count": 33,
   "id": "0e75283a-88a3-4a7f-935c-94eb79805cd2",
   "metadata": {},
   "outputs": [
    {
     "name": "stdin",
     "output_type": "stream",
     "text": [
      "1 + 2 = ? =>  0\n"
     ]
    },
    {
     "name": "stdout",
     "output_type": "stream",
     "text": [
      "유저의 입력값은 1 글자입니다. 0\n"
     ]
    }
   ],
   "source": [
    "# jupyter notebook에서 input 함수를 써서, 입력상황이 되었을 때에는\n",
    "# 이 입력상황을 없애야만 다른 Cell 실행을 할 수 있습니다.\n",
    "\n",
    "# or : 디폴트 값을 지정할 목적으로 많이 사용합니다.\n",
    "answer = input(\"1 + 2 = ? => \") or \"no input\"  # 유저로부터 1줄 입력을 받습니다.\n",
    "print(\"유저의 입력값은\", len(answer), \"글자입니다.\", answer)"
   ]
  },
  {
   "cell_type": "markdown",
   "id": "d2e410ac-a9a5-4d7f-bde0-5a4d4b5e6506",
   "metadata": {},
   "source": [
    "## 어떤 값에 대해서 bool 판정이 궁금하다면?"
   ]
  },
  {
   "cell_type": "code",
   "execution_count": 34,
   "id": "3ff1219e-c9ed-4077-bdb3-52379a4b54e0",
   "metadata": {},
   "outputs": [
    {
     "data": {
      "text/plain": [
       "579"
      ]
     },
     "execution_count": 34,
     "metadata": {},
     "output_type": "execute_result"
    }
   ],
   "source": [
    "int(\"123\") + 456"
   ]
  },
  {
   "cell_type": "code",
   "execution_count": 35,
   "id": "69e4fa7e-54fe-4158-bc56-8aace3bd4657",
   "metadata": {},
   "outputs": [
    {
     "data": {
      "text/plain": [
       "False"
      ]
     },
     "execution_count": 35,
     "metadata": {},
     "output_type": "execute_result"
    }
   ],
   "source": [
    "bool(\"\")  "
   ]
  },
  {
   "cell_type": "code",
   "execution_count": 36,
   "id": "afea0eb1-f720-4b3b-ae1b-516e27ef9f82",
   "metadata": {},
   "outputs": [
    {
     "data": {
      "text/plain": [
       "True"
      ]
     },
     "execution_count": 36,
     "metadata": {},
     "output_type": "execute_result"
    }
   ],
   "source": [
    "bool(\" \")"
   ]
  },
  {
   "cell_type": "code",
   "execution_count": 37,
   "id": "b7d80333-db22-4b4b-9d52-759279d09ed5",
   "metadata": {},
   "outputs": [
    {
     "data": {
      "text/plain": [
       "False"
      ]
     },
     "execution_count": 37,
     "metadata": {},
     "output_type": "execute_result"
    }
   ],
   "source": [
    "bool([])"
   ]
  },
  {
   "cell_type": "markdown",
   "id": "a3c328e3-b555-4a2f-b9a9-341f385156d7",
   "metadata": {},
   "source": [
    "## 홀수/짝수 판정"
   ]
  },
  {
   "cell_type": "code",
   "execution_count": 38,
   "id": "c0b6f543-49bc-4a39-9a5b-b427844da11b",
   "metadata": {},
   "outputs": [
    {
     "name": "stdin",
     "output_type": "stream",
     "text": [
      "자연수를 입력하세요. 10\n"
     ]
    },
    {
     "name": "stdout",
     "output_type": "stream",
     "text": [
      "number 타입 : <class 'str'>\n",
      "짝수를 입력하셨네요.\n"
     ]
    }
   ],
   "source": [
    "# 간결한 구현을 위해\n",
    "# 숫자 이외에 다른 값을 입력하는 상황은 고려하지 않겠어요.\n",
    "\n",
    "# 외부에서 들어온 값은 거의 문자열\n",
    "# => 받으면 이를 적절한 타입으로 변환하는 작업이 필요.\n",
    "\n",
    "number = input(\"자연수를 입력하세요.\")    # 입력된 문자열을 반환\n",
    "print(\"number 타입 :\", type(number))  # number 변수의 타입을 출력\n",
    "number = int(number)  # 타입 변환 (str to int)\n",
    "if number % 2 == 0:\n",
    "    print(\"짝수를 입력하셨네요.\")\n",
    "if number % 2 != 0:\n",
    "    print(\"홀수를 입력하셨네요.\")"
   ]
  },
  {
   "cell_type": "code",
   "execution_count": 39,
   "id": "2edf2174-7303-49c2-ba1c-b65de89a1f32",
   "metadata": {},
   "outputs": [
    {
     "name": "stdout",
     "output_type": "stream",
     "text": [
      "짝수를 입력하셨네요.\n"
     ]
    }
   ],
   "source": [
    "if number % 2 == 0:\n",
    "    print(\"짝수를 입력하셨네요.\")\n",
    "else:  # 위 조건이 모두 거짓일 때, 수행\n",
    "    print(\"홀수를 입력하셨네요.\")"
   ]
  },
  {
   "cell_type": "code",
   "execution_count": 40,
   "id": "f3ecf84c-1508-42bd-b327-00711dcd19d6",
   "metadata": {},
   "outputs": [
    {
     "name": "stdout",
     "output_type": "stream",
     "text": [
      "짝수를 입력하셨네요.\n"
     ]
    }
   ],
   "source": [
    "if number % 2:  # 읽기 어려운 코드. 명확하지 않은 코드.\n",
    "    print(\"홀수를 입력하셨네요.\")\n",
    "else:  # 위 조건이 모두 거짓일 때, 수행\n",
    "    print(\"짝수를 입력하셨네요.\")"
   ]
  },
  {
   "cell_type": "markdown",
   "id": "b7780a2e-5d07-4457-949e-10ae253f5ee2",
   "metadata": {},
   "source": [
    "# & 와 | 는 비트 연산자\n",
    "\n",
    "+ 하드웨어, 전자보드를 만드는 회사라면 쓸법한 문법"
   ]
  },
  {
   "cell_type": "code",
   "execution_count": 41,
   "id": "918ac896-43d0-4258-9a0a-db374a5d2511",
   "metadata": {},
   "outputs": [
    {
     "data": {
      "text/plain": [
       "True"
      ]
     },
     "execution_count": 41,
     "metadata": {},
     "output_type": "execute_result"
    }
   ],
   "source": [
    "True and True  # 앞값이 참이라면, 뒷값을 씁니다."
   ]
  },
  {
   "cell_type": "code",
   "execution_count": 42,
   "id": "79005871-5b9b-4c14-8eaa-36227877c141",
   "metadata": {},
   "outputs": [
    {
     "data": {
      "text/plain": [
       "1"
      ]
     },
     "execution_count": 42,
     "metadata": {},
     "output_type": "execute_result"
    }
   ],
   "source": [
    "0b10 and 0b01"
   ]
  },
  {
   "cell_type": "code",
   "execution_count": 43,
   "id": "bc830f62-73ed-4b3d-bc1d-eb546347237c",
   "metadata": {},
   "outputs": [
    {
     "data": {
      "text/plain": [
       "0"
      ]
     },
     "execution_count": 43,
     "metadata": {},
     "output_type": "execute_result"
    }
   ],
   "source": [
    "0b10 & 0b01"
   ]
  },
  {
   "cell_type": "code",
   "execution_count": 44,
   "id": "79192615-f8e5-4e13-9d0e-68784bcfbc1f",
   "metadata": {},
   "outputs": [
    {
     "data": {
      "text/plain": [
       "3"
      ]
     },
     "execution_count": 44,
     "metadata": {},
     "output_type": "execute_result"
    }
   ],
   "source": [
    "0b10 | 0b01"
   ]
  },
  {
   "cell_type": "markdown",
   "id": "27508ff4-729e-4179-9f47-7804473a68b0",
   "metadata": {},
   "source": [
    "# NameError"
   ]
  },
  {
   "cell_type": "code",
   "execution_count": 45,
   "id": "ec8f2a42-ae72-4e0a-9102-c8b4439c3bff",
   "metadata": {},
   "outputs": [],
   "source": [
    "age = 10"
   ]
  },
  {
   "cell_type": "code",
   "execution_count": 46,
   "id": "e3ba269b-c0fd-491e-967c-3537a8f81f18",
   "metadata": {},
   "outputs": [
    {
     "data": {
      "text/plain": [
       "10"
      ]
     },
     "execution_count": 46,
     "metadata": {},
     "output_type": "execute_result"
    }
   ],
   "source": [
    "age"
   ]
  },
  {
   "cell_type": "code",
   "execution_count": 47,
   "id": "375cd084-3bd7-4543-949d-381f5365a08d",
   "metadata": {},
   "outputs": [
    {
     "data": {
      "text/plain": [
       "10"
      ]
     },
     "execution_count": 47,
     "metadata": {},
     "output_type": "execute_result"
    }
   ],
   "source": [
    "number"
   ]
  },
  {
   "cell_type": "markdown",
   "id": "d002071e-4ed1-4cdd-b058-9179f332ad0c",
   "metadata": {},
   "source": [
    "# 값의 타입 변환"
   ]
  },
  {
   "cell_type": "code",
   "execution_count": 48,
   "id": "88ff209b-11f0-4be8-a63d-5e69d51c5353",
   "metadata": {},
   "outputs": [
    {
     "data": {
      "text/plain": [
       "100"
      ]
     },
     "execution_count": 48,
     "metadata": {},
     "output_type": "execute_result"
    }
   ],
   "source": [
    "int(\"100\")  # 문자열 -> 숫자 (10진수)"
   ]
  },
  {
   "cell_type": "code",
   "execution_count": 49,
   "id": "ade0130d-4800-4875-a39c-5c5b9a61b98a",
   "metadata": {},
   "outputs": [
    {
     "data": {
      "text/plain": [
       "64"
      ]
     },
     "execution_count": 49,
     "metadata": {},
     "output_type": "execute_result"
    }
   ],
   "source": [
    "int(\"100\", 8) # 8진법 100을 십진수로 변환"
   ]
  },
  {
   "cell_type": "code",
   "execution_count": 50,
   "id": "5bb49343-9cdd-472f-88f0-680d45b1a112",
   "metadata": {},
   "outputs": [
    {
     "data": {
      "text/plain": [
       "121"
      ]
     },
     "execution_count": 50,
     "metadata": {},
     "output_type": "execute_result"
    }
   ],
   "source": [
    "int(\"100\", 11)"
   ]
  },
  {
   "cell_type": "code",
   "execution_count": 51,
   "id": "e8a88a19-50d4-40ad-90d6-079eea64dbf3",
   "metadata": {},
   "outputs": [
    {
     "data": {
      "text/plain": [
       "4"
      ]
     },
     "execution_count": 51,
     "metadata": {},
     "output_type": "execute_result"
    }
   ],
   "source": [
    "int(\"100\", 2)"
   ]
  },
  {
   "cell_type": "code",
   "execution_count": 52,
   "id": "dc97fa25-18af-4cc5-936b-3d3474ab510f",
   "metadata": {},
   "outputs": [
    {
     "data": {
      "text/plain": [
       "256"
      ]
     },
     "execution_count": 52,
     "metadata": {},
     "output_type": "execute_result"
    }
   ],
   "source": [
    "int(\"100\", 16)"
   ]
  },
  {
   "cell_type": "code",
   "execution_count": 53,
   "id": "8c74e189-ecaa-45ef-9103-b0577c56af98",
   "metadata": {},
   "outputs": [
    {
     "ename": "ValueError",
     "evalue": "invalid literal for int() with base 10: 'a12'",
     "output_type": "error",
     "traceback": [
      "\u001b[31m---------------------------------------------------------------------------\u001b[39m",
      "\u001b[31mValueError\u001b[39m                                Traceback (most recent call last)",
      "\u001b[36mCell\u001b[39m\u001b[36m \u001b[39m\u001b[32mIn[53]\u001b[39m\u001b[32m, line 2\u001b[39m\n\u001b[32m      1\u001b[39m \u001b[38;5;66;03m# 16진수 수 : 0, 1, 2, 3, 4, 5, 6, 7, 8, 9, a, b, c, d, e, f\u001b[39;00m\n\u001b[32m----> \u001b[39m\u001b[32m2\u001b[39m \u001b[38;5;28;43mint\u001b[39;49m\u001b[43m(\u001b[49m\u001b[33;43m\"\u001b[39;49m\u001b[33;43ma12\u001b[39;49m\u001b[33;43m\"\u001b[39;49m\u001b[43m)\u001b[49m\n",
      "\u001b[31mValueError\u001b[39m: invalid literal for int() with base 10: 'a12'"
     ]
    }
   ],
   "source": [
    "# 16진수 수 : 0, 1, 2, 3, 4, 5, 6, 7, 8, 9, a, b, c, d, e, f\n",
    "int(\"a12\")"
   ]
  },
  {
   "cell_type": "code",
   "execution_count": 54,
   "id": "c4007556-5d8c-476c-bf72-69a78bad74d5",
   "metadata": {},
   "outputs": [
    {
     "data": {
      "text/plain": [
       "2578"
      ]
     },
     "execution_count": 54,
     "metadata": {},
     "output_type": "execute_result"
    }
   ],
   "source": [
    "int(\"a12\", 16)"
   ]
  },
  {
   "cell_type": "code",
   "execution_count": null,
   "id": "01cfd42b-7a04-48e6-b0ab-1c5d7112454a",
   "metadata": {},
   "outputs": [],
   "source": []
  },
  {
   "cell_type": "code",
   "execution_count": 55,
   "id": "26a63dd6-bcdc-46c8-9a9d-981c9ea2a110",
   "metadata": {},
   "outputs": [
    {
     "name": "stdout",
     "output_type": "stream",
     "text": [
      "H\n",
      "E\n",
      "L\n",
      "L\n",
      "O\n"
     ]
    }
   ],
   "source": [
    "# 문자열을 순회돌면, 1글자씩 문자를 받아옵니다.\n",
    "for 글자 in \"HELLO\":  # 글자(문자)들의 모음. 순서가 있습니다.\n",
    "    print(글자)"
   ]
  },
  {
   "cell_type": "code",
   "execution_count": 56,
   "id": "4de3ef2e-da95-4202-a6ae-8adb66737059",
   "metadata": {},
   "outputs": [
    {
     "data": {
      "text/plain": [
       "['H', 'E', 'L', 'L', 'O']"
      ]
     },
     "execution_count": 56,
     "metadata": {},
     "output_type": "execute_result"
    }
   ],
   "source": [
    "list(\"HELLO\")"
   ]
  },
  {
   "cell_type": "code",
   "execution_count": 57,
   "id": "73b39391-0a69-4d42-a9cb-528803f4dd44",
   "metadata": {},
   "outputs": [
    {
     "data": {
      "text/plain": [
       "72"
      ]
     },
     "execution_count": 57,
     "metadata": {},
     "output_type": "execute_result"
    }
   ],
   "source": [
    "ord(\"H\")  # \"H\" 글자가 가진 숫자로 변환"
   ]
  },
  {
   "cell_type": "code",
   "execution_count": 58,
   "id": "923ced2b-2528-4deb-8612-1f2f048a46a4",
   "metadata": {},
   "outputs": [
    {
     "data": {
      "text/plain": [
       "[72, 69, 76, 76, 79]"
      ]
     },
     "execution_count": 58,
     "metadata": {},
     "output_type": "execute_result"
    }
   ],
   "source": [
    "codes = []  # 리스트(list), 순서를 가지며, 원하는 위치에 값을 추가할 수 있어요.\n",
    "\n",
    "for 글자 in \"HELLO\":\n",
    "    code = ord(글자)\n",
    "    codes.append(code)  # 매 글자의 숫자 코드를 codes 리스트 끝에 추가\n",
    "\n",
    "codes"
   ]
  },
  {
   "cell_type": "code",
   "execution_count": 60,
   "id": "1f714e6a-b50a-4b60-89bc-6e3f182aed92",
   "metadata": {},
   "outputs": [
    {
     "data": {
      "text/plain": [
       "[72, 69, 76, 76, 79]"
      ]
     },
     "execution_count": 60,
     "metadata": {},
     "output_type": "execute_result"
    }
   ],
   "source": [
    "# list comprehension 문법\n",
    "#  - list comprehension을 쓰는 데, 코드가 좀 길어진다 싶으면\n",
    "#    그냥 쓰지마시고 코드를 풀어쓰세요. => **가독성**이 중요해요.\n",
    "codes = [ord(글자) for 글자 in \"HELLO\"]\n",
    "codes"
   ]
  },
  {
   "cell_type": "code",
   "execution_count": null,
   "id": "9907aae8-066d-49cd-8893-98309d2298b9",
   "metadata": {},
   "outputs": [],
   "source": []
  },
  {
   "cell_type": "code",
   "execution_count": 61,
   "id": "a5582efb-c908-4fda-9362-dc46ab3cab75",
   "metadata": {},
   "outputs": [],
   "source": [
    "numbers = range(1, 11, 1)  # 1이상 11미만의 범위에서 1씩 증가되는 값을 생성"
   ]
  },
  {
   "cell_type": "code",
   "execution_count": 62,
   "id": "cf597884-2bd8-41de-8cd6-56f53816a8d8",
   "metadata": {},
   "outputs": [
    {
     "data": {
      "text/plain": [
       "[1, 4, 9, 16, 25, 36, 49, 64, 81, 100]"
      ]
     },
     "execution_count": 62,
     "metadata": {},
     "output_type": "execute_result"
    }
   ],
   "source": [
    "# numbers에서 각 항목의 제곱값으로 이뤄진 새로운 리스트\n",
    "new_numbers = []\n",
    "\n",
    "for n in numbers:\n",
    "    # n * n\n",
    "    new_numbers.append(n ** 2)\n",
    "\n",
    "new_numbers"
   ]
  },
  {
   "cell_type": "code",
   "execution_count": 63,
   "id": "0ff1b566-a64a-46be-aba1-e85d63a64787",
   "metadata": {},
   "outputs": [
    {
     "data": {
      "text/plain": [
       "[1, 4, 9, 16, 25, 36, 49, 64, 81, 100]"
      ]
     },
     "execution_count": 63,
     "metadata": {},
     "output_type": "execute_result"
    }
   ],
   "source": [
    "# list comprehension 문법으로 아래 numbers 값을 활용해서, 각 항목의 제곱으로 이뤄진 새로운 리스트 생성\n",
    "numbers = range(1, 11, 1)\n",
    "\n",
    "[num ** 2 for num in numbers]"
   ]
  },
  {
   "cell_type": "markdown",
   "id": "87278de2-8b1b-4e03-83c3-19988372b918",
   "metadata": {},
   "source": [
    "# 타입 힌팅"
   ]
  },
  {
   "cell_type": "code",
   "execution_count": 65,
   "id": "f75dca89-33d0-4d50-868a-994f02b8422a",
   "metadata": {},
   "outputs": [
    {
     "data": {
      "text/plain": [
       "10"
      ]
     },
     "execution_count": 65,
     "metadata": {},
     "output_type": "execute_result"
    }
   ],
   "source": [
    "# 하나의 변수에 여러 타입의 값들을 바꿔가며 담을 수 있어요. => 유연함\n",
    "#  - 상대적으로, 유연함이 없는 언어 : Java, C/C++ 등\n",
    "#  - 파이썬의 철학 : 유연함이 더 주는 가치가 크다고 생각.\n",
    "\n",
    "# 이런 유연함이 있지만, 가급적이면 하나의 변수는 하나의 타입으로만 쓰는 것이 좋아요.\n",
    "message = \"hello\"\n",
    "message = 10\n",
    "message"
   ]
  },
  {
   "cell_type": "code",
   "execution_count": 66,
   "id": "2ecdba96-3ce6-42cf-a2f8-2499079a100b",
   "metadata": {},
   "outputs": [],
   "source": [
    "# 이 변수는 str 타입으로만 쓰겠어요. 라는 힌트. => VSCode 등.\n",
    "#  - 이전에는 VSCode 등이 코드를 실행해봐야만 message가 문자열인지 뒤늦게 알게되요.\n",
    "#  - 타입 힌트가 있으면 VSCode 등이 코드를 실행해보지 않아도 message 타입을 알게 되요.\n",
    "message: str = \"hello\""
   ]
  },
  {
   "cell_type": "code",
   "execution_count": 68,
   "id": "e533dc0f-32e8-491a-ae7c-18c04a2a5b42",
   "metadata": {},
   "outputs": [
    {
     "data": {
      "text/plain": [
       "'Hello'"
      ]
     },
     "execution_count": 68,
     "metadata": {},
     "output_type": "execute_result"
    }
   ],
   "source": [
    "message.title()  # 첫 글자를 대소문자로 바꾼 새로운 문자열을 반환"
   ]
  },
  {
   "cell_type": "markdown",
   "id": "4e9b0b31-cd66-4255-be8d-9a8a4e4ebe25",
   "metadata": {},
   "source": [
    "각 변수에 타입을 지정하면, `Codex`, `Claude Code`, `Gemini` 등의 AI들도\n",
    "각 변수의 타입을 빠르게 인지할 수 있어서, 타입을 오해하지 않고 동작하는 코드를\n",
    "생성해줄 수 있습니다.\n",
    "\n",
    "+ 타입을 쓰지 않는다고 해서 에러는 X.\n",
    "+ 타입을 잘못 지정한다고 해서 에러는 X."
   ]
  },
  {
   "cell_type": "code",
   "execution_count": null,
   "id": "5004b285-b77f-4e99-83ef-46f0c72d1f5b",
   "metadata": {},
   "outputs": [],
   "source": []
  }
 ],
 "metadata": {
  "kernelspec": {
   "display_name": "Python 3 (ipykernel)",
   "language": "python",
   "name": "python3"
  },
  "language_info": {
   "codemirror_mode": {
    "name": "ipython",
    "version": 3
   },
   "file_extension": ".py",
   "mimetype": "text/x-python",
   "name": "python",
   "nbconvert_exporter": "python",
   "pygments_lexer": "ipython3",
   "version": "3.13.2"
  }
 },
 "nbformat": 4,
 "nbformat_minor": 5
}
