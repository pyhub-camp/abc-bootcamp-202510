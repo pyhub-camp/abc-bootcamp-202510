{
 "cells": [
  {
   "cell_type": "markdown",
   "id": "8aad9f9a-8ab4-46c1-938c-2a7c9751d9e1",
   "metadata": {},
   "source": [
    "# 문자열과 인덱싱"
   ]
  },
  {
   "cell_type": "code",
   "execution_count": 1,
   "id": "59f29dd0-56d5-4769-a2d0-23f5ae94e7a4",
   "metadata": {},
   "outputs": [
    {
     "data": {
      "text/plain": [
       "'hello'"
      ]
     },
     "execution_count": 1,
     "metadata": {},
     "output_type": "execute_result"
    }
   ],
   "source": [
    "\"hello\"  # 5글자"
   ]
  },
  {
   "cell_type": "code",
   "execution_count": 2,
   "id": "489d6782-4758-4b7e-b291-65782393f89f",
   "metadata": {},
   "outputs": [
    {
     "data": {
      "text/plain": [
       "'안녕하세요'"
      ]
     },
     "execution_count": 2,
     "metadata": {},
     "output_type": "execute_result"
    }
   ],
   "source": [
    "\"안녕하세요\"  # 5글자. 일본어/한자 등 모든 글자에 대해서 모두 1글자씩 카운트"
   ]
  },
  {
   "cell_type": "code",
   "execution_count": 3,
   "id": "f67730f3-7057-44cc-aa46-9511a97ea516",
   "metadata": {},
   "outputs": [
    {
     "data": {
      "text/plain": [
       "(5, 5)"
      ]
     },
     "execution_count": 3,
     "metadata": {},
     "output_type": "execute_result"
    }
   ],
   "source": [
    "len(\"hello\"), len(\"안녕하세요\")"
   ]
  },
  {
   "cell_type": "markdown",
   "id": "4806aad9-d2ef-44f4-b00b-b3e56f5c34f4",
   "metadata": {},
   "source": [
    "글자수 != 데이터크기\n",
    "\n",
    "+ 영어는 1 Byte 문자\n",
    "+ CJK (중국어, 일본어, 한국어) 문자들은 Multi Bytes 문자 (2 바이트 이상)\n",
    "\n",
    "파이썬 코드 내에서는 딱히 어떤 언어인지를 신경쓸 필요가 거의 없어요.\n",
    "그냥 글자는 글자일 뿐.\n",
    "\n",
    "저장할 때, 저장되는 데이터 크기가 다르다. 정도만 인지하면 됩니다."
   ]
  },
  {
   "cell_type": "markdown",
   "id": "9bd14b34-d23c-462a-bbd3-79d66dc3c77f",
   "metadata": {},
   "source": [
    "## 문자열은 변경 불가능합니다. (Immutable)"
   ]
  },
  {
   "cell_type": "code",
   "execution_count": 4,
   "id": "60c0adce-28ae-4ebe-a986-598c2f8aad21",
   "metadata": {},
   "outputs": [
    {
     "data": {
      "text/plain": [
       "'이진석'"
      ]
     },
     "execution_count": 4,
     "metadata": {},
     "output_type": "execute_result"
    }
   ],
   "source": [
    "name = \"이진석\"\n",
    "name"
   ]
  },
  {
   "cell_type": "code",
   "execution_count": 5,
   "id": "ea3f4328-5f4f-4894-9977-3a3d28302399",
   "metadata": {},
   "outputs": [
    {
     "data": {
      "text/plain": [
       "'이'"
      ]
     },
     "execution_count": 5,
     "metadata": {},
     "output_type": "execute_result"
    }
   ],
   "source": [
    "name[0]  # 인덱스 0 문자"
   ]
  },
  {
   "cell_type": "code",
   "execution_count": 6,
   "id": "d1736782-1dbc-4e35-897d-61e0370f95a9",
   "metadata": {},
   "outputs": [
    {
     "ename": "TypeError",
     "evalue": "'str' object does not support item assignment",
     "output_type": "error",
     "traceback": [
      "\u001b[31m---------------------------------------------------------------------------\u001b[39m",
      "\u001b[31mTypeError\u001b[39m                                 Traceback (most recent call last)",
      "\u001b[36mCell\u001b[39m\u001b[36m \u001b[39m\u001b[32mIn[6]\u001b[39m\u001b[32m, line 1\u001b[39m\n\u001b[32m----> \u001b[39m\u001b[32m1\u001b[39m \u001b[43mname\u001b[49m\u001b[43m[\u001b[49m\u001b[32;43m0\u001b[39;49m\u001b[43m]\u001b[49m = \u001b[33m\"\u001b[39m\u001b[33m박\u001b[39m\u001b[33m\"\u001b[39m\n",
      "\u001b[31mTypeError\u001b[39m: 'str' object does not support item assignment"
     ]
    }
   ],
   "source": [
    "name[0] = \"박\""
   ]
  },
  {
   "cell_type": "code",
   "execution_count": 7,
   "id": "69289620-d3fb-4e4e-9c70-640738344fbd",
   "metadata": {},
   "outputs": [],
   "source": [
    "name = \"박진석\"  # 개별 글자만 변경 X. 한 번에 다 변경."
   ]
  },
  {
   "cell_type": "code",
   "execution_count": 10,
   "id": "7e347b3c-6397-4553-b786-fb500b224535",
   "metadata": {},
   "outputs": [
    {
     "data": {
      "text/plain": [
       "'박진석'"
      ]
     },
     "execution_count": 10,
     "metadata": {},
     "output_type": "execute_result"
    }
   ],
   "source": [
    "name = \"이진석\"\n",
    "\n",
    "# 성만 지정해서 바꾸고 싶어요.\n",
    "name = \"박\" + name[1:]  # 1번 인덱스부터 끝까지.\n",
    "name"
   ]
  },
  {
   "cell_type": "markdown",
   "id": "2fbd4acd-0b6d-4b8d-ac1d-5b845f56a5a1",
   "metadata": {},
   "source": [
    "# index 그리고 key\n",
    "\n",
    "+ 문자열/리스트/튜플 : 개별 값을 `index`로 접근\n",
    "    - 문자열 : `\"hello\"`\n",
    "    - 리스트 : `[\"h\", \"e\", \"l\", \"l\", \"o\"]`\n",
    "    - 튜플 : `(\"h\", \"e\", \"l\", \"l\", \"o\")`\n",
    "    - 값으로만 구성되어있고, 순서가 있죠.\n",
    "+ 사전 : 개별 값을 `key`로 접근"
   ]
  },
  {
   "cell_type": "code",
   "execution_count": 12,
   "id": "728112dc-4ed7-440b-a399-174de325da04",
   "metadata": {},
   "outputs": [
    {
     "data": {
      "text/plain": [
       "{'국어': 90, '영어': 80, '수학': 70}"
      ]
     },
     "execution_count": 12,
     "metadata": {},
     "output_type": "execute_result"
    }
   ],
   "source": [
    "# 사전(dict)은 key/value 으로 구성됩니다.\n",
    "성적 = { \"국어\": 90, \"영어\": 80, \"수학\": 70 }\n",
    "성적 "
   ]
  },
  {
   "cell_type": "code",
   "execution_count": 15,
   "id": "cb96614d-b759-4deb-97e0-3ddad7c653d2",
   "metadata": {},
   "outputs": [
    {
     "name": "stdout",
     "output_type": "stream",
     "text": [
      "90\n"
     ]
    },
    {
     "data": {
      "text/plain": [
       "{'국어': 91, '영어': 80, '수학': 70}"
      ]
     },
     "execution_count": 15,
     "metadata": {},
     "output_type": "execute_result"
    }
   ],
   "source": [
    "print(성적[\"국어\"])\n",
    "# 성적[\"국어\"] = 성적[\"국어\"] + 1  # 국어 성적을 +1\n",
    "성적[\"국어\"] += 1  # 위 코드의 축약 문법\n",
    "성적"
   ]
  },
  {
   "cell_type": "code",
   "execution_count": 16,
   "id": "ac388dc7-b336-4be5-a0b3-b5f055f73a58",
   "metadata": {},
   "outputs": [
    {
     "ename": "KeyError",
     "evalue": "'과학'",
     "output_type": "error",
     "traceback": [
      "\u001b[31m---------------------------------------------------------------------------\u001b[39m",
      "\u001b[31mKeyError\u001b[39m                                  Traceback (most recent call last)",
      "\u001b[36mCell\u001b[39m\u001b[36m \u001b[39m\u001b[32mIn[16]\u001b[39m\u001b[32m, line 1\u001b[39m\n\u001b[32m----> \u001b[39m\u001b[32m1\u001b[39m \u001b[43m성적\u001b[49m\u001b[43m[\u001b[49m\u001b[33;43m\"\u001b[39;49m\u001b[33;43m과학\u001b[39;49m\u001b[33;43m\"\u001b[39;49m\u001b[43m]\u001b[49m  \u001b[38;5;66;03m# 없는 Key로 읽어올려고 하면 KeyError\u001b[39;00m\n",
      "\u001b[31mKeyError\u001b[39m: '과학'"
     ]
    }
   ],
   "source": [
    "성적[\"과학\"]  # 없는 Key로 읽어올려고 하면 KeyError"
   ]
  },
  {
   "cell_type": "code",
   "execution_count": 17,
   "id": "de407fe3-86fe-4175-abbc-f52cffd99ec5",
   "metadata": {},
   "outputs": [
    {
     "data": {
      "text/plain": [
       "{'국어': 91, '영어': 80, '수학': 70, '지리': 100}"
      ]
     },
     "execution_count": 17,
     "metadata": {},
     "output_type": "execute_result"
    }
   ],
   "source": [
    "성적[\"지리\"] = 100  # Key를 지정해서 저장하는 것은, 1) 해당 Key가 있으면 덮어쓰기, 2) 없으면 새롭게 생성\n",
    "성적"
   ]
  },
  {
   "cell_type": "code",
   "execution_count": 18,
   "id": "3b3b74ff-c341-4482-bceb-f82a1edaf391",
   "metadata": {},
   "outputs": [
    {
     "data": {
      "text/plain": [
       "4"
      ]
     },
     "execution_count": 18,
     "metadata": {},
     "output_type": "execute_result"
    }
   ],
   "source": [
    "len(성적)  # 총 개수 = 4"
   ]
  },
  {
   "cell_type": "code",
   "execution_count": null,
   "id": "6a355069-68b2-405d-a2d6-8302cb038c48",
   "metadata": {},
   "outputs": [],
   "source": []
  },
  {
   "cell_type": "code",
   "execution_count": null,
   "id": "63242f4c-31d3-492d-b463-4b769876ef15",
   "metadata": {},
   "outputs": [],
   "source": [
    "성적 = { 90, 80, 90, 100 } # 중괄호 + 값 만으로만 구성 => 집합 (set)\n",
    "print(type(성적))\n",
    "성적"
   ]
  },
  {
   "cell_type": "markdown",
   "id": "bb0a6fcd-31db-4de0-b67a-e1707c87fbaa",
   "metadata": {},
   "source": [
    "# Immutable 실습"
   ]
  },
  {
   "cell_type": "code",
   "execution_count": 19,
   "id": "05be3352-ed1b-4f75-99f8-e5fd6b514686",
   "metadata": {},
   "outputs": [
    {
     "ename": "TypeError",
     "evalue": "'str' object does not support item assignment",
     "output_type": "error",
     "traceback": [
      "\u001b[31m---------------------------------------------------------------------------\u001b[39m",
      "\u001b[31mTypeError\u001b[39m                                 Traceback (most recent call last)",
      "\u001b[36mCell\u001b[39m\u001b[36m \u001b[39m\u001b[32mIn[19]\u001b[39m\u001b[32m, line 2\u001b[39m\n\u001b[32m      1\u001b[39m name = \u001b[33m\"\u001b[39m\u001b[33m이진석\u001b[39m\u001b[33m\"\u001b[39m\n\u001b[32m----> \u001b[39m\u001b[32m2\u001b[39m \u001b[43mname\u001b[49m\u001b[43m[\u001b[49m\u001b[32;43m0\u001b[39;49m\u001b[43m]\u001b[49m = \u001b[33m\"\u001b[39m\u001b[33m박\u001b[39m\u001b[33m\"\u001b[39m\n",
      "\u001b[31mTypeError\u001b[39m: 'str' object does not support item assignment"
     ]
    }
   ],
   "source": [
    "name = \"이진석\"\n",
    "name[0] = \"박\""
   ]
  },
  {
   "cell_type": "code",
   "execution_count": 20,
   "id": "3d78e9b6-961b-430a-9b45-0bc57fc92deb",
   "metadata": {},
   "outputs": [
    {
     "data": {
      "text/plain": [
       "[110, 90, 80, 95]"
      ]
     },
     "execution_count": 20,
     "metadata": {},
     "output_type": "execute_result"
    }
   ],
   "source": [
    "scores = [100, 90, 80, 95]  # list는 Mutable해서 특정 항목의 값을 변경 가능\n",
    "scores[0] = 110\n",
    "scores"
   ]
  },
  {
   "cell_type": "code",
   "execution_count": 21,
   "id": "b305e7fb-0c06-4601-9f1a-5feb19c14a66",
   "metadata": {},
   "outputs": [
    {
     "ename": "TypeError",
     "evalue": "'tuple' object does not support item assignment",
     "output_type": "error",
     "traceback": [
      "\u001b[31m---------------------------------------------------------------------------\u001b[39m",
      "\u001b[31mTypeError\u001b[39m                                 Traceback (most recent call last)",
      "\u001b[36mCell\u001b[39m\u001b[36m \u001b[39m\u001b[32mIn[21]\u001b[39m\u001b[32m, line 3\u001b[39m\n\u001b[32m      1\u001b[39m \u001b[38;5;66;03m# tuple도 immutable합니다.\u001b[39;00m\n\u001b[32m      2\u001b[39m scores = (\u001b[32m100\u001b[39m, \u001b[32m90\u001b[39m, \u001b[32m80\u001b[39m, \u001b[32m95\u001b[39m)  \u001b[38;5;66;03m# tuple\u001b[39;00m\n\u001b[32m----> \u001b[39m\u001b[32m3\u001b[39m \u001b[43mscores\u001b[49m\u001b[43m[\u001b[49m\u001b[32;43m0\u001b[39;49m\u001b[43m]\u001b[49m = \u001b[32m110\u001b[39m\n\u001b[32m      4\u001b[39m scores\n",
      "\u001b[31mTypeError\u001b[39m: 'tuple' object does not support item assignment"
     ]
    }
   ],
   "source": [
    "# tuple도 immutable합니다.\n",
    "scores = (100, 90, 80, 95)  # tuple\n",
    "scores[0] = 110\n",
    "scores"
   ]
  },
  {
   "cell_type": "markdown",
   "id": "d554585d-e2bc-44b7-a5f3-bbd09edd98a3",
   "metadata": {},
   "source": [
    "Tip: 여러분들의 코드에서 `tuple`은 안 쓰셔도 되요. `list`만 정의하셔도 OK. `tuple`은 파이썬으로부터 값을 받을 때 `tuple` 타입이 있어요. 그때 `tuple` 특성에 맞게 값 변경이 그냥 읽어서 쓰시기만 하면 되요."
   ]
  },
  {
   "cell_type": "markdown",
   "id": "2a50a746-e7ff-4125-a325-15b0996e14d3",
   "metadata": {},
   "source": [
    "# 슬라이싱"
   ]
  },
  {
   "cell_type": "code",
   "execution_count": 24,
   "id": "bb7b7393-688e-47b2-8a31-aae5af3e13d9",
   "metadata": {},
   "outputs": [
    {
     "data": {
      "text/plain": [
       "'abcdefghijklmnopqrstuvwxyz'"
      ]
     },
     "execution_count": 24,
     "metadata": {},
     "output_type": "execute_result"
    }
   ],
   "source": [
    "import string\n",
    "\n",
    "알파벳 = string.ascii_lowercase\n",
    "알파벳"
   ]
  },
  {
   "cell_type": "code",
   "execution_count": 26,
   "id": "1b07bf7b-28b2-4b19-937b-020dd9b8cf04",
   "metadata": {},
   "outputs": [
    {
     "data": {
      "text/plain": [
       "'abc'"
      ]
     },
     "execution_count": 26,
     "metadata": {},
     "output_type": "execute_result"
    }
   ],
   "source": [
    "# 처음 3개\n",
    "알파벳[:3:]"
   ]
  },
  {
   "cell_type": "code",
   "execution_count": 27,
   "id": "c1c442b8-1f01-4d19-8a74-0cdf2f441cad",
   "metadata": {},
   "outputs": [
    {
     "data": {
      "text/plain": [
       "'abcdefghij'"
      ]
     },
     "execution_count": 27,
     "metadata": {},
     "output_type": "execute_result"
    }
   ],
   "source": [
    "# 처음 10개\n",
    "알파벳[ :10: ]  "
   ]
  },
  {
   "cell_type": "code",
   "execution_count": 29,
   "id": "97748b8e-26a3-42e7-b011-d7c86b50ef0a",
   "metadata": {},
   "outputs": [
    {
     "data": {
      "text/plain": [
       "'qrstuvwxyz'"
      ]
     },
     "execution_count": 29,
     "metadata": {},
     "output_type": "execute_result"
    }
   ],
   "source": [
    "# 마지막 10개\n",
    "알파벳[-10::]"
   ]
  },
  {
   "cell_type": "code",
   "execution_count": 30,
   "id": "e196733a-2fe8-4606-9f76-f48d2bc2f656",
   "metadata": {},
   "outputs": [
    {
     "data": {
      "text/plain": [
       "'cdef'"
      ]
     },
     "execution_count": 30,
     "metadata": {},
     "output_type": "execute_result"
    }
   ],
   "source": [
    "# 3번째 글자부터 4개\n",
    "알파벳[2:6:]"
   ]
  },
  {
   "cell_type": "code",
   "execution_count": 34,
   "id": "10a9f685-e528-4f77-9725-1068ab1707a4",
   "metadata": {},
   "outputs": [
    {
     "data": {
      "text/plain": [
       "'acegikmoqsuwy'"
      ]
     },
     "execution_count": 34,
     "metadata": {},
     "output_type": "execute_result"
    }
   ],
   "source": [
    "# 처음부터 (a) 마지막까지 1글자씩 건너뛰기\n",
    "알파벳[ : :2] "
   ]
  },
  {
   "cell_type": "code",
   "execution_count": 37,
   "id": "a4096bf1-5e41-4cb4-ad3d-d5e19fb2cee7",
   "metadata": {},
   "outputs": [
    {
     "data": {
      "text/plain": [
       "'zyxwvutsrqponmlkjihgfedcba'"
      ]
     },
     "execution_count": 37,
     "metadata": {},
     "output_type": "execute_result"
    }
   ],
   "source": [
    "# z 부터 a까지 거꾸로\n",
    "알파벳[ : :-1]  # 인덱스 증가량의 음수 여부에 따라, 시작 위치가 바뀝니다."
   ]
  },
  {
   "cell_type": "code",
   "execution_count": 39,
   "id": "b00c5e40-3a95-41c2-9df7-4a766b929a32",
   "metadata": {},
   "outputs": [
    {
     "data": {
      "text/plain": [
       "'zxvtrpnljhfd'"
      ]
     },
     "execution_count": 39,
     "metadata": {},
     "output_type": "execute_result"
    }
   ],
   "source": [
    "알파벳[:2:-2]"
   ]
  },
  {
   "cell_type": "markdown",
   "id": "39b34bd7-a750-49d9-a8f1-16309b2afde7",
   "metadata": {},
   "source": [
    "# 리스트"
   ]
  },
  {
   "cell_type": "code",
   "execution_count": 40,
   "id": "009d792e-37e6-40dc-bd47-f664785e4303",
   "metadata": {},
   "outputs": [
    {
     "data": {
      "text/plain": [
       "['a', 'b', 'c']"
      ]
     },
     "execution_count": 40,
     "metadata": {},
     "output_type": "execute_result"
    }
   ],
   "source": [
    "문자들 = [\"a\", \"b\", \"c\"]\n",
    "문자들"
   ]
  },
  {
   "cell_type": "code",
   "execution_count": 41,
   "id": "9aad2d53-d32f-422e-9c38-2c68d1467a49",
   "metadata": {},
   "outputs": [
    {
     "data": {
      "text/plain": [
       "['a', 'b', 'c', 'd']"
      ]
     },
     "execution_count": 41,
     "metadata": {},
     "output_type": "execute_result"
    }
   ],
   "source": [
    "문자들.append('d')  # 끝에 추가\n",
    "문자들"
   ]
  },
  {
   "cell_type": "code",
   "execution_count": 42,
   "id": "6963e9b7-f61b-4dd2-a970-497470faf199",
   "metadata": {},
   "outputs": [
    {
     "data": {
      "text/plain": [
       "['a', 'b', 'c', 'd', 'd']"
      ]
     },
     "execution_count": 42,
     "metadata": {},
     "output_type": "execute_result"
    }
   ],
   "source": [
    "문자들.append('d')  # 끝에 추가 (중복 체크 X) \n",
    "문자들"
   ]
  },
  {
   "cell_type": "code",
   "execution_count": 43,
   "id": "3bba8a2d-5d35-4116-8e04-ed257e191804",
   "metadata": {},
   "outputs": [
    {
     "data": {
      "text/plain": [
       "['e', 'a', 'b', 'c', 'd', 'd']"
      ]
     },
     "execution_count": 43,
     "metadata": {},
     "output_type": "execute_result"
    }
   ],
   "source": [
    "# 추가할 항목이 어떤 인덱스이기를 원하는가?\n",
    "문자들.insert(0, 'e')  # 'e' 값이 0 번 인덱스로 추가되길 원한다.\n",
    "문자들"
   ]
  },
  {
   "cell_type": "code",
   "execution_count": 44,
   "id": "d0f75bda-a8c1-4747-937e-db541ff52e20",
   "metadata": {},
   "outputs": [
    {
     "name": "stdout",
     "output_type": "stream",
     "text": [
      "d\n"
     ]
    },
    {
     "data": {
      "text/plain": [
       "['e', 'a', 'b', 'c', 'd']"
      ]
     },
     "execution_count": 44,
     "metadata": {},
     "output_type": "execute_result"
    }
   ],
   "source": [
    "print(문자들.pop())  # 가장 마지막 값을 제거하면서, 반환(return)합니다.\n",
    "문자들"
   ]
  },
  {
   "cell_type": "markdown",
   "id": "dad1a2dc-9c32-43fc-990a-46ca068e4f6c",
   "metadata": {},
   "source": [
    "# 연습문제"
   ]
  },
  {
   "cell_type": "code",
   "execution_count": 49,
   "id": "5f633745-45a4-4919-b10d-166c24ddb6cf",
   "metadata": {},
   "outputs": [],
   "source": [
    "# # 각 메뉴에 대한 레시피\n",
    "# 좋아하는_음식 = {\n",
    "#     \"라면\": \"...\",\n",
    "#     \"김밥\": \"...\",\n",
    "#     \"커피\": \"...\",\n",
    "#     # \"민첩\": 100,\n",
    "#     # \"HP\": 1000,\n",
    "# }"
   ]
  },
  {
   "cell_type": "code",
   "execution_count": 50,
   "id": "d07d8ee9-4700-4990-ae2a-325f3ca55b32",
   "metadata": {},
   "outputs": [],
   "source": [
    "# 좋아하는 메뉴 top10을 리스트로 구성\n",
    "좋아하는_음식 = [\n",
    "    \"라면\",  # 1위\n",
    "    \"호떡\",  # 2위\n",
    "    \"김밥\",  # 3위\n",
    "    \"쫄면\",  # ...\n",
    "    \"햄버거\",\n",
    "    \"샐러드\",\n",
    "    \"커피\",\n",
    "    \"핫식스\",\n",
    "    \"두유\",\n",
    "    \"오트밀\",\n",
    "]"
   ]
  },
  {
   "cell_type": "code",
   "execution_count": 51,
   "id": "ee65293f-8d65-4ae9-8f0e-d88d8982b5fd",
   "metadata": {},
   "outputs": [
    {
     "data": {
      "text/plain": [
       "'호떡'"
      ]
     },
     "execution_count": 51,
     "metadata": {},
     "output_type": "execute_result"
    }
   ],
   "source": [
    "# 2번째로 좋아하는 메뉴\n",
    "좋아하는_음식[1]"
   ]
  },
  {
   "cell_type": "code",
   "execution_count": 53,
   "id": "174d83ee-63ef-43a9-89f7-ed04593e7005",
   "metadata": {},
   "outputs": [
    {
     "data": {
      "text/plain": [
       "['쫄면', '햄버거', '샐러드', '커피']"
      ]
     },
     "execution_count": 53,
     "metadata": {},
     "output_type": "execute_result"
    }
   ],
   "source": [
    "# 4위 ~ 7위 메뉴를 한 번에 출력\n",
    "좋아하는_음식[3:3+4]"
   ]
  },
  {
   "cell_type": "code",
   "execution_count": 54,
   "id": "f9eda8f7-3d8d-48ee-a236-794c6cd612bd",
   "metadata": {},
   "outputs": [
    {
     "data": {
      "text/plain": [
       "['핫식스', '두유', '오트밀']"
      ]
     },
     "execution_count": 54,
     "metadata": {},
     "output_type": "execute_result"
    }
   ],
   "source": [
    "# 하위 3개 메뉴를 한 번에 출력\n",
    "좋아하는_음식[-3:]"
   ]
  },
  {
   "cell_type": "code",
   "execution_count": 55,
   "id": "7c5c6029-c6a6-4355-b151-efb2e9f0b77a",
   "metadata": {},
   "outputs": [
    {
     "data": {
      "text/plain": [
       "['오트밀', '두유', '핫식스', '커피', '샐러드', '햄버거', '쫄면', '김밥', '호떡', '라면']"
      ]
     },
     "execution_count": 55,
     "metadata": {},
     "output_type": "execute_result"
    }
   ],
   "source": [
    "# 리스트를 거꾸로 뒤집어 출력\n",
    "좋아하는_음식[::-1]"
   ]
  },
  {
   "cell_type": "code",
   "execution_count": null,
   "id": "df97d6f1-f9a4-448b-8731-e201194a897d",
   "metadata": {},
   "outputs": [],
   "source": []
  },
  {
   "cell_type": "code",
   "execution_count": 60,
   "id": "04cd9a40-4322-4cb0-be6f-b2e1641c3059",
   "metadata": {},
   "outputs": [
    {
     "name": "stdout",
     "output_type": "stream",
     "text": [
      "1위. 라면\n",
      "2위. 호떡\n",
      "3위. 김밥\n"
     ]
    }
   ],
   "source": [
    "# TOP3 를 순위와 함께 출력\n",
    "순위 = 1\n",
    "for 메뉴명 in 좋아하는_음식[:3]:\n",
    "    print(\"{}위. {}\".format(순위, 메뉴명))\n",
    "    순위 += 1"
   ]
  },
  {
   "cell_type": "code",
   "execution_count": 64,
   "id": "2fb5a3bc-778b-49e2-8b72-5f61548ad8d9",
   "metadata": {},
   "outputs": [
    {
     "name": "stdout",
     "output_type": "stream",
     "text": [
      "1위. 라면\n",
      "2위. 호떡\n",
      "3위. 김밥\n"
     ]
    }
   ],
   "source": [
    "# \"순위\" 값은 1부터 매 순회 시마다 1씩 증가\n",
    "\n",
    "for 순위, 메뉴명 in enumerate(좋아하는_음식[:3], start=1):\n",
    "    print(\"{}위. {}\".format(순위, 메뉴명))"
   ]
  },
  {
   "cell_type": "code",
   "execution_count": null,
   "id": "54bfe815-4dcc-48a9-a84e-ca6395f00415",
   "metadata": {},
   "outputs": [],
   "source": []
  },
  {
   "cell_type": "markdown",
   "id": "492b1fc0-e2d8-4fb5-9b96-69940aa26478",
   "metadata": {},
   "source": [
    "# Titanic 데이터"
   ]
  },
  {
   "cell_type": "code",
   "execution_count": 47,
   "id": "0e483885-3366-4c38-babf-bf73e49b3eee",
   "metadata": {},
   "outputs": [
    {
     "name": "stdout",
     "output_type": "stream",
     "text": [
      "(891, 15)\n"
     ]
    },
    {
     "data": {
      "text/html": [
       "<div>\n",
       "<style scoped>\n",
       "    .dataframe tbody tr th:only-of-type {\n",
       "        vertical-align: middle;\n",
       "    }\n",
       "\n",
       "    .dataframe tbody tr th {\n",
       "        vertical-align: top;\n",
       "    }\n",
       "\n",
       "    .dataframe thead th {\n",
       "        text-align: right;\n",
       "    }\n",
       "</style>\n",
       "<table border=\"1\" class=\"dataframe\">\n",
       "  <thead>\n",
       "    <tr style=\"text-align: right;\">\n",
       "      <th></th>\n",
       "      <th>survived</th>\n",
       "      <th>pclass</th>\n",
       "      <th>sex</th>\n",
       "      <th>age</th>\n",
       "      <th>sibsp</th>\n",
       "      <th>parch</th>\n",
       "      <th>fare</th>\n",
       "      <th>embarked</th>\n",
       "      <th>class</th>\n",
       "      <th>who</th>\n",
       "      <th>adult_male</th>\n",
       "      <th>deck</th>\n",
       "      <th>embark_town</th>\n",
       "      <th>alive</th>\n",
       "      <th>alone</th>\n",
       "    </tr>\n",
       "  </thead>\n",
       "  <tbody>\n",
       "    <tr>\n",
       "      <th>0</th>\n",
       "      <td>0</td>\n",
       "      <td>3</td>\n",
       "      <td>male</td>\n",
       "      <td>22.0</td>\n",
       "      <td>1</td>\n",
       "      <td>0</td>\n",
       "      <td>7.2500</td>\n",
       "      <td>S</td>\n",
       "      <td>Third</td>\n",
       "      <td>man</td>\n",
       "      <td>True</td>\n",
       "      <td>NaN</td>\n",
       "      <td>Southampton</td>\n",
       "      <td>no</td>\n",
       "      <td>False</td>\n",
       "    </tr>\n",
       "    <tr>\n",
       "      <th>1</th>\n",
       "      <td>1</td>\n",
       "      <td>1</td>\n",
       "      <td>female</td>\n",
       "      <td>38.0</td>\n",
       "      <td>1</td>\n",
       "      <td>0</td>\n",
       "      <td>71.2833</td>\n",
       "      <td>C</td>\n",
       "      <td>First</td>\n",
       "      <td>woman</td>\n",
       "      <td>False</td>\n",
       "      <td>C</td>\n",
       "      <td>Cherbourg</td>\n",
       "      <td>yes</td>\n",
       "      <td>False</td>\n",
       "    </tr>\n",
       "    <tr>\n",
       "      <th>2</th>\n",
       "      <td>1</td>\n",
       "      <td>3</td>\n",
       "      <td>female</td>\n",
       "      <td>26.0</td>\n",
       "      <td>0</td>\n",
       "      <td>0</td>\n",
       "      <td>7.9250</td>\n",
       "      <td>S</td>\n",
       "      <td>Third</td>\n",
       "      <td>woman</td>\n",
       "      <td>False</td>\n",
       "      <td>NaN</td>\n",
       "      <td>Southampton</td>\n",
       "      <td>yes</td>\n",
       "      <td>True</td>\n",
       "    </tr>\n",
       "    <tr>\n",
       "      <th>3</th>\n",
       "      <td>1</td>\n",
       "      <td>1</td>\n",
       "      <td>female</td>\n",
       "      <td>35.0</td>\n",
       "      <td>1</td>\n",
       "      <td>0</td>\n",
       "      <td>53.1000</td>\n",
       "      <td>S</td>\n",
       "      <td>First</td>\n",
       "      <td>woman</td>\n",
       "      <td>False</td>\n",
       "      <td>C</td>\n",
       "      <td>Southampton</td>\n",
       "      <td>yes</td>\n",
       "      <td>False</td>\n",
       "    </tr>\n",
       "    <tr>\n",
       "      <th>4</th>\n",
       "      <td>0</td>\n",
       "      <td>3</td>\n",
       "      <td>male</td>\n",
       "      <td>35.0</td>\n",
       "      <td>0</td>\n",
       "      <td>0</td>\n",
       "      <td>8.0500</td>\n",
       "      <td>S</td>\n",
       "      <td>Third</td>\n",
       "      <td>man</td>\n",
       "      <td>True</td>\n",
       "      <td>NaN</td>\n",
       "      <td>Southampton</td>\n",
       "      <td>no</td>\n",
       "      <td>True</td>\n",
       "    </tr>\n",
       "  </tbody>\n",
       "</table>\n",
       "</div>"
      ],
      "text/plain": [
       "   survived  pclass     sex   age  sibsp  parch     fare embarked  class  \\\n",
       "0         0       3    male  22.0      1      0   7.2500        S  Third   \n",
       "1         1       1  female  38.0      1      0  71.2833        C  First   \n",
       "2         1       3  female  26.0      0      0   7.9250        S  Third   \n",
       "3         1       1  female  35.0      1      0  53.1000        S  First   \n",
       "4         0       3    male  35.0      0      0   8.0500        S  Third   \n",
       "\n",
       "     who  adult_male deck  embark_town alive  alone  \n",
       "0    man        True  NaN  Southampton    no  False  \n",
       "1  woman       False    C    Cherbourg   yes  False  \n",
       "2  woman       False  NaN  Southampton   yes   True  \n",
       "3  woman       False    C  Southampton   yes  False  \n",
       "4    man        True  NaN  Southampton    no   True  "
      ]
     },
     "execution_count": 47,
     "metadata": {},
     "output_type": "execute_result"
    }
   ],
   "source": [
    "import seaborn as sns  # pip install seaborn\n",
    "\n",
    "titanic_df = sns.load_dataset(\"titanic\")\n",
    "print(titanic_df.shape)\n",
    "titanic_df.head()\n",
    "# 생사여부, 객실등급, 성별, 나이, 형제자매수, 부모자식수, 요금, 승차항구_코드명, 객실, 성별"
   ]
  },
  {
   "cell_type": "code",
   "execution_count": 70,
   "id": "db4d7f9b-eab7-4caf-9069-c28ae1d2c807",
   "metadata": {},
   "outputs": [
    {
     "data": {
      "text/html": [
       "<div>\n",
       "<style scoped>\n",
       "    .dataframe tbody tr th:only-of-type {\n",
       "        vertical-align: middle;\n",
       "    }\n",
       "\n",
       "    .dataframe tbody tr th {\n",
       "        vertical-align: top;\n",
       "    }\n",
       "\n",
       "    .dataframe thead th {\n",
       "        text-align: right;\n",
       "    }\n",
       "</style>\n",
       "<table border=\"1\" class=\"dataframe\">\n",
       "  <thead>\n",
       "    <tr style=\"text-align: right;\">\n",
       "      <th></th>\n",
       "      <th>survived</th>\n",
       "      <th>pclass</th>\n",
       "      <th>sex</th>\n",
       "    </tr>\n",
       "  </thead>\n",
       "  <tbody>\n",
       "    <tr>\n",
       "      <th>10</th>\n",
       "      <td>1</td>\n",
       "      <td>3</td>\n",
       "      <td>female</td>\n",
       "    </tr>\n",
       "    <tr>\n",
       "      <th>11</th>\n",
       "      <td>1</td>\n",
       "      <td>1</td>\n",
       "      <td>female</td>\n",
       "    </tr>\n",
       "    <tr>\n",
       "      <th>12</th>\n",
       "      <td>0</td>\n",
       "      <td>3</td>\n",
       "      <td>male</td>\n",
       "    </tr>\n",
       "    <tr>\n",
       "      <th>13</th>\n",
       "      <td>0</td>\n",
       "      <td>3</td>\n",
       "      <td>male</td>\n",
       "    </tr>\n",
       "    <tr>\n",
       "      <th>14</th>\n",
       "      <td>0</td>\n",
       "      <td>3</td>\n",
       "      <td>female</td>\n",
       "    </tr>\n",
       "    <tr>\n",
       "      <th>15</th>\n",
       "      <td>1</td>\n",
       "      <td>2</td>\n",
       "      <td>female</td>\n",
       "    </tr>\n",
       "    <tr>\n",
       "      <th>16</th>\n",
       "      <td>0</td>\n",
       "      <td>3</td>\n",
       "      <td>male</td>\n",
       "    </tr>\n",
       "    <tr>\n",
       "      <th>17</th>\n",
       "      <td>1</td>\n",
       "      <td>2</td>\n",
       "      <td>male</td>\n",
       "    </tr>\n",
       "    <tr>\n",
       "      <th>18</th>\n",
       "      <td>0</td>\n",
       "      <td>3</td>\n",
       "      <td>female</td>\n",
       "    </tr>\n",
       "    <tr>\n",
       "      <th>19</th>\n",
       "      <td>1</td>\n",
       "      <td>3</td>\n",
       "      <td>female</td>\n",
       "    </tr>\n",
       "  </tbody>\n",
       "</table>\n",
       "</div>"
      ],
      "text/plain": [
       "    survived  pclass     sex\n",
       "10         1       3  female\n",
       "11         1       1  female\n",
       "12         0       3    male\n",
       "13         0       3    male\n",
       "14         0       3  female\n",
       "15         1       2  female\n",
       "16         0       3    male\n",
       "17         1       2    male\n",
       "18         0       3  female\n",
       "19         1       3  female"
      ]
     },
     "execution_count": 70,
     "metadata": {},
     "output_type": "execute_result"
    }
   ],
   "source": [
    "titanic_df.iloc[10:20, :3]  # 이렇게 범위로서 11번째 Row 데이터부터 10개 행을 조회"
   ]
  },
  {
   "cell_type": "code",
   "execution_count": 71,
   "id": "9d87d414-1fdc-4548-9490-a6d174067916",
   "metadata": {},
   "outputs": [
    {
     "data": {
      "text/plain": [
       "Index(['survived', 'pclass', 'sex', 'age', 'sibsp', 'parch', 'fare',\n",
       "       'embarked', 'class', 'who', 'adult_male', 'deck', 'embark_town',\n",
       "       'alive', 'alone'],\n",
       "      dtype='object')"
      ]
     },
     "execution_count": 71,
     "metadata": {},
     "output_type": "execute_result"
    }
   ],
   "source": [
    "titanic_df.columns"
   ]
  },
  {
   "cell_type": "code",
   "execution_count": 72,
   "id": "c7868e65-cbce-42bc-af43-8545c3356d1b",
   "metadata": {},
   "outputs": [
    {
     "data": {
      "text/plain": [
       "sex\n",
       "male      577\n",
       "female    314\n",
       "Name: count, dtype: int64"
      ]
     },
     "execution_count": 72,
     "metadata": {},
     "output_type": "execute_result"
    }
   ],
   "source": [
    "titanic_df.value_counts(\"sex\")  # 반환값이 Series (1차원 데이터)"
   ]
  },
  {
   "cell_type": "code",
   "execution_count": 77,
   "id": "a148aa36-c9d9-4c4d-94d4-241b8520aa94",
   "metadata": {},
   "outputs": [
    {
     "data": {
      "text/plain": [
       "<Axes: xlabel='sex'>"
      ]
     },
     "execution_count": 77,
     "metadata": {},
     "output_type": "execute_result"
    },
    {
     "data": {
      "image/png": "[encoded data removed]",
      "text/plain": [
       "<Figure size 640x480 with 1 Axes>"
      ]
     },
     "metadata": {},
     "output_type": "display_data"
    }
   ],
   "source": [
    "titanic_df.value_counts(\"sex\").plot(kind=\"bar\")  # 차트 생성 요청 (디폴트: line)"
   ]
  },
  {
   "cell_type": "code",
   "execution_count": 80,
   "id": "f9ac67c3-3d9c-4777-946f-3ee48915d370",
   "metadata": {},
   "outputs": [],
   "source": [
    "# 현재 경로에 ./data/ 폴더가 반드시 있어야 해요. (폴더 자동 생성은 안 해줘요.)\n",
    "# 디폴트로 utf8 인코딩으로 저장이 될 겁니다. (변경할려면 encoding= 인자를 활용)\n",
    "titanic_df.to_csv(\"./data/titanic.csv\")  # 지정 경로에 CSV 파일 저장"
   ]
  },
  {
   "cell_type": "code",
   "execution_count": null,
   "id": "71829063-0894-4d5b-a0b7-bb69b1bce408",
   "metadata": {},
   "outputs": [],
   "source": []
  },
  {
   "cell_type": "markdown",
   "id": "9a2f9136-0a69-418d-b54d-2d905f5ef9ae",
   "metadata": {},
   "source": [
    "# 주요 빌트인 함수와 정렬"
   ]
  },
  {
   "cell_type": "code",
   "execution_count": 81,
   "id": "fc11f1a8-9c25-4044-a469-e6baec85d413",
   "metadata": {},
   "outputs": [],
   "source": [
    "json_url = \"https://raw.githubusercontent.com/pyhub-kr/dump-data/refs/heads/main/melon/melon-20251027.json\""
   ]
  },
  {
   "cell_type": "code",
   "execution_count": 83,
   "id": "317dc451-a6ed-4dfd-a60d-1ff67ada2dff",
   "metadata": {},
   "outputs": [],
   "source": [
    "import requests  # pip install requests"
   ]
  },
  {
   "cell_type": "code",
   "execution_count": 85,
   "id": "50d7993d-af10-48f2-91c0-b95c6ba31b28",
   "metadata": {},
   "outputs": [
    {
     "data": {
      "text/plain": [
       "<Response [200]>"
      ]
     },
     "execution_count": 85,
     "metadata": {},
     "output_type": "execute_result"
    }
   ],
   "source": [
    "res = requests.get(json_url)  # 지정 주소로 HTTP 요청하고 응답을 받습니다.\n",
    "res  # 상태코드 200 => 정상처리 OK."
   ]
  },
  {
   "cell_type": "code",
   "execution_count": 86,
   "id": "f2947303-8401-409b-aa41-f60fb8ad37ea",
   "metadata": {},
   "outputs": [
    {
     "name": "stdout",
     "output_type": "stream",
     "text": [
      "100\n"
     ]
    },
    {
     "data": {
      "text/plain": [
       "{'곡일련번호': 600243411,\n",
       " '순위': '1',\n",
       " 'album_uid': 12149391,\n",
       " 'album_name': 'Blue Valentine',\n",
       " '곡명': 'Blue Valentine',\n",
       " 'artist_uid': 3070786,\n",
       " 'artist_name': 'NMIXX',\n",
       " '커버이미지_주소': 'https://cdnimg.melon.co.kr/cm2/album/images/121/49/391/12149391_20251013150421_500.jpg',\n",
       " '가사': 'You’ll always be my blue valentine\\nYou’ll always be my blue valentine\\n\\n식어버린 너의 색은 blue\\n파랗게 멍이 든 my heart\\n몇 번이고 덧이 나\\n열이 나 lovesick\\n이건 such a bad love\\n\\nWe fight, we sigh, and stop\\n붉게 타오르다 한순간에 식어가\\nRewind, rewind, rewind\\n언제 그랬냐는 듯이 또 서롤 찾아\\n\\n깊게 새긴 상처\\n비친 red blood\\n부서진 forever\\nI can see it now\\nCan you see it now?\\n\\n우린 마치 broken glass on the ground\\n돌이킬 수 없다 해도\\nWe can figure it out\\n\\nIf this love is over\\n다시 뛰어들어 난\\n이 사랑은 colder\\nI’ll keep the fire lit in mine\\n\\nYou’ll always be my blue valentine\\nYou’ll always be my blue valentine\\n\\n식어도 타오르는 얼음 속 불꽃\\n아무 겁도 없이 뻗어버린 손\\nHot and icy\\nBut I like it\\nIt’s so you\\n\\n바뀌어 맘의 weather\\n몰려온 cloud\\n외로운 together\\nI can feel it now\\nCan you feel it now?\\n\\nRollercoaster처럼\\n우린 정신없이\\n흔들려도\\n돌아갈 걸 알아\\nSo it doesn’t matter\\n\\nYou might be my end game\\n대가로 얻은 worst pain\\n(You might be)\\n\\nIf this love is over\\n다시 뛰어들어 난\\n이 사랑은 colder\\nI’ll keep the fire lit in mine\\n\\nYou’ll always be my blue valentine\\nYou’ll always be my blue valentine\\n\\n붉고 푸른\\n사랑이란 bruise\\n낫지는 않길\\nCause it’s you (yeah)\\n\\nIf this love is over\\n다시 뛰어들어 난 (뛰어들어 난)\\n이 사랑은 colder (colder, yeah)\\nI’ll keep the fire lit in mine\\n\\nYou’ll always be my blue valentine\\n(Always be, my blue valentine)\\nYou’ll always be my blue valentine\\n\\nI’m falling over and over and over, ah\\nYou’re getting colder and colder and colder\\nBlue valentine',\n",
       " '장르': ['댄스'],\n",
       " '발매일': '2025-10-13',\n",
       " '좋아요': 57463}"
      ]
     },
     "execution_count": 86,
     "metadata": {},
     "output_type": "execute_result"
    }
   ],
   "source": [
    "song_list = res.json()  # 타입 : list[dict]\n",
    "print(len(song_list))\n",
    "song_list[0]  # 첫번째 항목만 출력"
   ]
  },
  {
   "cell_type": "code",
   "execution_count": null,
   "id": "a0f68347-b415-4fca-99da-e574724c2eba",
   "metadata": {},
   "outputs": [],
   "source": []
  },
  {
   "cell_type": "code",
   "execution_count": 88,
   "id": "8c0547fc-d9fb-4cc8-9e51-7bcc22d923ee",
   "metadata": {},
   "outputs": [
    {
     "data": {
      "text/plain": [
       "[1, 1, 2, 2, 3, 3, 4, 6, 7]"
      ]
     },
     "execution_count": 88,
     "metadata": {},
     "output_type": "execute_result"
    }
   ],
   "source": [
    "# 리스트 내 항목 간에 대소비교가 가능해야 => 정렬이 됩니다.\n",
    "#  - 오름차순 정렬을 한다면, 작은 값이 앞에 와야 합니다. => 대소비교가 가능해야 하죠.\n",
    "sorted([1, 3, 2, 4, 3, 2, 1, 6, 7])"
   ]
  },
  {
   "cell_type": "code",
   "execution_count": 94,
   "id": "66f81d87-311f-4613-8f33-11447a929ed2",
   "metadata": {},
   "outputs": [
    {
     "data": {
      "text/plain": [
       "[{'점수': 3}, {'점수': 2}, {'점수': 1}]"
      ]
     },
     "execution_count": 94,
     "metadata": {},
     "output_type": "execute_result"
    }
   ],
   "source": [
    "# 정렬된 새로운 리스트를 반환\n",
    "sorted([\n",
    "    {\"점수\": 1},  # 정렬 기준값 : 1\n",
    "    {\"점수\": 3},  # 정렬 기준값 : 3\n",
    "    {\"점수\": 2},  # 정렬 기준값 : 2\n",
    "], key=lambda ele: ele[\"점수\"], reverse=True)"
   ]
  },
  {
   "cell_type": "markdown",
   "id": "2371ec19-feb1-4f0c-991a-19fc2f8d81f3",
   "metadata": {},
   "source": [
    "## filter\n",
    "\n",
    "지정 조건에 맞는 항목만 통과시키고, 그렇지 않다면 걸러낸다."
   ]
  },
  {
   "cell_type": "code",
   "execution_count": 95,
   "id": "c95161e7-709a-4c50-ad5e-ccd2e2e335af",
   "metadata": {},
   "outputs": [],
   "source": [
    "numbers = [1, 2, 3, 4, 5, 6, 7, 8, 9, 10]"
   ]
  },
  {
   "cell_type": "code",
   "execution_count": 99,
   "id": "6348848f-2586-4175-ae3e-77ca84260cb5",
   "metadata": {},
   "outputs": [
    {
     "data": {
      "text/plain": [
       "[2, 4, 6, 8, 10]"
      ]
     },
     "execution_count": 99,
     "metadata": {},
     "output_type": "execute_result"
    }
   ],
   "source": [
    "# 짝수로만 구성된 새로운 목록\n",
    "[숫자 for 숫자 in numbers if 숫자 % 2 == 0]  # list comprehension"
   ]
  },
  {
   "cell_type": "code",
   "execution_count": 102,
   "id": "0013d3d2-08a9-466d-819d-4ba15270bbc2",
   "metadata": {},
   "outputs": [
    {
     "data": {
      "text/plain": [
       "[2, 4, 6, 8, 10]"
      ]
     },
     "execution_count": 102,
     "metadata": {},
     "output_type": "execute_result"
    }
   ],
   "source": [
    "list(filter(lambda 숫자: 숫자 % 2 == 0, numbers))"
   ]
  },
  {
   "cell_type": "markdown",
   "id": "1f840350-dfce-4de6-85f3-5c76a35c3d4d",
   "metadata": {},
   "source": [
    "## map\n",
    "\n",
    "지정 Rule로 각 항목의 값을 변환한다."
   ]
  },
  {
   "cell_type": "code",
   "execution_count": 104,
   "id": "bdee832a-2044-429e-a061-35535f3c7e83",
   "metadata": {},
   "outputs": [
    {
     "data": {
      "text/plain": [
       "[4, 16, 36, 64, 100]"
      ]
     },
     "execution_count": 104,
     "metadata": {},
     "output_type": "execute_result"
    }
   ],
   "source": [
    "# 각 항목의 값을 제곱\n",
    "[숫자 ** 2 for 숫자 in numbers if 숫자 % 2 == 0]  # list comprehension"
   ]
  },
  {
   "cell_type": "code",
   "execution_count": 108,
   "id": "04d5c9d1-8fbb-4c2b-bd62-72b27be1a8bd",
   "metadata": {},
   "outputs": [
    {
     "data": {
      "text/plain": [
       "[4, 16, 36, 64, 100]"
      ]
     },
     "execution_count": 108,
     "metadata": {},
     "output_type": "execute_result"
    }
   ],
   "source": [
    "pipe = filter(lambda 숫자: 숫자 % 2 == 0, numbers)  # 데이터 필터링 함수\n",
    "list(map(lambda 숫자: 숫자 ** 2, pipe))  # 데이터 변환 함수"
   ]
  },
  {
   "cell_type": "code",
   "execution_count": null,
   "id": "1cc89344-127a-4b55-9ee4-c967026c303d",
   "metadata": {},
   "outputs": [],
   "source": []
  },
  {
   "cell_type": "code",
   "execution_count": null,
   "id": "eedeb0a4-80ae-42ba-8e7d-3da59c33c821",
   "metadata": {},
   "outputs": [],
   "source": []
  },
  {
   "cell_type": "code",
   "execution_count": null,
   "id": "0c4c3ae7-5a36-40f6-b4a5-0f01fd8c2cab",
   "metadata": {},
   "outputs": [],
   "source": []
  },
  {
   "cell_type": "code",
   "execution_count": null,
   "id": "81856f76-3ea2-42df-8a1d-a9732213beca",
   "metadata": {},
   "outputs": [],
   "source": []
  },
  {
   "cell_type": "code",
   "execution_count": null,
   "id": "89a555a0-7f8c-4bbc-b76d-a6367dfa3f87",
   "metadata": {},
   "outputs": [],
   "source": []
  }
 ],
 "metadata": {
  "kernelspec": {
   "display_name": "Python 3 (ipykernel)",
   "language": "python",
   "name": "python3"
  },
  "language_info": {
   "codemirror_mode": {
    "name": "ipython",
    "version": 3
   },
   "file_extension": ".py",
   "mimetype": "text/x-python",
   "name": "python",
   "nbconvert_exporter": "python",
   "pygments_lexer": "ipython3",
   "version": "3.13.2"
  }
 },
 "nbformat": 4,
 "nbformat_minor": 5
}
